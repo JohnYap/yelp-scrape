{
 "cells": [
  {
   "cell_type": "markdown",
   "metadata": {},
   "source": [
    "### In this notebook, process data variables for Texas outlets for both Shake Shack and In-N-Out\n",
    "\n",
    "### This notebook will create the dataset, Texas"
   ]
  },
  {
   "cell_type": "code",
   "execution_count": 1,
   "metadata": {},
   "outputs": [
    {
     "data": {
      "text/html": [
       "<script>requirejs.config({paths: { 'plotly': ['https://cdn.plot.ly/plotly-latest.min']},});if(!window.Plotly) {{require(['plotly'],function(plotly) {window.Plotly=plotly;});}}</script>"
      ],
      "text/vnd.plotly.v1+html": [
       "<script>requirejs.config({paths: { 'plotly': ['https://cdn.plot.ly/plotly-latest.min']},});if(!window.Plotly) {{require(['plotly'],function(plotly) {window.Plotly=plotly;});}}</script>"
      ]
     },
     "metadata": {},
     "output_type": "display_data"
    }
   ],
   "source": [
    "import numpy as np\n",
    "import pandas as pd\n",
    "import plotly\n",
    "\n",
    "plotly.offline.init_notebook_mode(connected=True)"
   ]
  },
  {
   "cell_type": "markdown",
   "metadata": {},
   "source": [
    "# I. Collect Data Frames"
   ]
  },
  {
   "cell_type": "markdown",
   "metadata": {},
   "source": [
    "### retrieve Shake Shack data and create two new columns"
   ]
  },
  {
   "cell_type": "code",
   "execution_count": 2,
   "metadata": {
    "collapsed": true
   },
   "outputs": [],
   "source": [
    "#Retrieve Shack Shack Data\n",
    "df_ss_plano = pd.read_csv('./data/ss_plano.csv', header = None)\n",
    "df_ss_dallas_north = pd.read_csv('./data/ss_dallas_north.csv', header = None)\n",
    "df_ss_dallas_uptown = pd.read_csv('./data/ss_dallas_uptown.csv', header = None)"
   ]
  },
  {
   "cell_type": "code",
   "execution_count": 3,
   "metadata": {
    "collapsed": true
   },
   "outputs": [],
   "source": [
    "df_ss_plano['restaurant'] = ['Shake Shack'] * df_ss_plano.shape[0]\n",
    "df_ss_plano['outlet'] = ['Plano'] * df_ss_plano.shape[0]"
   ]
  },
  {
   "cell_type": "code",
   "execution_count": 4,
   "metadata": {
    "collapsed": true
   },
   "outputs": [],
   "source": [
    "df_ss_dallas_north['restaurant'] = ['Shake Shack'] * df_ss_dallas_north.shape[0]\n",
    "df_ss_dallas_north['outlet'] = ['Dallas North'] * df_ss_dallas_north.shape[0]"
   ]
  },
  {
   "cell_type": "code",
   "execution_count": 5,
   "metadata": {
    "collapsed": true
   },
   "outputs": [],
   "source": [
    "df_ss_dallas_uptown['restaurant'] = ['Shake Shack'] * df_ss_dallas_uptown.shape[0]\n",
    "df_ss_dallas_uptown['outlet'] = ['Dallas Uptown'] * df_ss_dallas_uptown.shape[0]"
   ]
  },
  {
   "cell_type": "markdown",
   "metadata": {},
   "source": [
    "### retrieve In-N-Out Data and create two new columns"
   ]
  },
  {
   "cell_type": "code",
   "execution_count": 6,
   "metadata": {
    "collapsed": true
   },
   "outputs": [],
   "source": [
    "df_ino_plano = pd.read_csv('./data/ino_plano.csv', header = None)\n",
    "df_ino_dallas_north = pd.read_csv('./data/ino_dallas_north.csv', header = None)\n",
    "df_ino_dallas_ug = pd.read_csv('./data/ino_dallas_ug.csv', header = None)"
   ]
  },
  {
   "cell_type": "code",
   "execution_count": 7,
   "metadata": {
    "collapsed": true
   },
   "outputs": [],
   "source": [
    "df_ino_plano['restaurant'] = ['In-N-Out'] * df_ino_plano.shape[0]\n",
    "df_ino_plano['outlet'] = ['Plano'] * df_ino_plano.shape[0]"
   ]
  },
  {
   "cell_type": "code",
   "execution_count": 8,
   "metadata": {
    "collapsed": true
   },
   "outputs": [],
   "source": [
    "df_ino_dallas_north['restaurant'] = ['In-N-Out'] * df_ino_dallas_north.shape[0]\n",
    "df_ino_dallas_north['outlet'] = ['Dallas North'] * df_ino_dallas_north.shape[0]"
   ]
  },
  {
   "cell_type": "code",
   "execution_count": 9,
   "metadata": {
    "collapsed": true
   },
   "outputs": [],
   "source": [
    "df_ino_dallas_ug['restaurant'] = ['In-N-Out'] * df_ino_dallas_ug.shape[0]\n",
    "df_ino_dallas_ug['outlet'] = ['Dallas UG'] * df_ino_dallas_ug.shape[0]"
   ]
  },
  {
   "cell_type": "markdown",
   "metadata": {},
   "source": [
    "### collect all data frames into a list and create one data frame"
   ]
  },
  {
   "cell_type": "code",
   "execution_count": 10,
   "metadata": {
    "collapsed": true
   },
   "outputs": [],
   "source": [
    "frames = [df_ss_plano, df_ss_dallas_north, df_ss_dallas_uptown, df_ino_plano, \\\n",
    "          df_ino_dallas_north, df_ino_dallas_ug]\n",
    "df_orig = pd.concat(frames)"
   ]
  },
  {
   "cell_type": "code",
   "execution_count": 11,
   "metadata": {
    "collapsed": true
   },
   "outputs": [],
   "source": [
    "df_orig.columns = ['name', 'location', 'friends', 'reviews', 'photos', 'elite', 'review_date', 'rating', \n",
    "              'check_in', 'content', 'useful', 'date_reply', 'restaurant', 'outlet']"
   ]
  },
  {
   "cell_type": "markdown",
   "metadata": {},
   "source": [
    "### select relevant columns for now"
   ]
  },
  {
   "cell_type": "code",
   "execution_count": 12,
   "metadata": {
    "collapsed": true
   },
   "outputs": [],
   "source": [
    "df = df_orig[['name', 'location', 'review_date', 'rating', 'content', 'date_reply', 'restaurant', 'outlet']].copy()"
   ]
  },
  {
   "cell_type": "code",
   "execution_count": 13,
   "metadata": {},
   "outputs": [
    {
     "data": {
      "text/html": [
       "<div>\n",
       "<style>\n",
       "    .dataframe thead tr:only-child th {\n",
       "        text-align: right;\n",
       "    }\n",
       "\n",
       "    .dataframe thead th {\n",
       "        text-align: left;\n",
       "    }\n",
       "\n",
       "    .dataframe tbody tr th {\n",
       "        vertical-align: top;\n",
       "    }\n",
       "</style>\n",
       "<table border=\"1\" class=\"dataframe\">\n",
       "  <thead>\n",
       "    <tr style=\"text-align: right;\">\n",
       "      <th></th>\n",
       "      <th>name</th>\n",
       "      <th>location</th>\n",
       "      <th>review_date</th>\n",
       "      <th>rating</th>\n",
       "      <th>content</th>\n",
       "      <th>date_reply</th>\n",
       "      <th>restaurant</th>\n",
       "      <th>outlet</th>\n",
       "    </tr>\n",
       "  </thead>\n",
       "  <tbody>\n",
       "    <tr>\n",
       "      <th>0</th>\n",
       "      <td>Nancy T.</td>\n",
       "      <td>Garland, TX</td>\n",
       "      <td>4/21/2018</td>\n",
       "      <td>4.0</td>\n",
       "      <td>It's a good quality burger and that's why it's...</td>\n",
       "      <td>NaN</td>\n",
       "      <td>Shake Shack</td>\n",
       "      <td>Plano</td>\n",
       "    </tr>\n",
       "    <tr>\n",
       "      <th>1</th>\n",
       "      <td>De Amber P.</td>\n",
       "      <td>Allen, TX</td>\n",
       "      <td>4/16/2018</td>\n",
       "      <td>5.0</td>\n",
       "      <td>Kind of upset it took me this long to find thi...</td>\n",
       "      <td>NaN</td>\n",
       "      <td>Shake Shack</td>\n",
       "      <td>Plano</td>\n",
       "    </tr>\n",
       "    <tr>\n",
       "      <th>2</th>\n",
       "      <td>Jodi F.</td>\n",
       "      <td>Katy, TX</td>\n",
       "      <td>4/15/2018</td>\n",
       "      <td>4.0</td>\n",
       "      <td>Had the smokehouse stack (with red peppers)- i...</td>\n",
       "      <td>NaN</td>\n",
       "      <td>Shake Shack</td>\n",
       "      <td>Plano</td>\n",
       "    </tr>\n",
       "    <tr>\n",
       "      <th>3</th>\n",
       "      <td>Shalise G.</td>\n",
       "      <td>Addison, Dallas, TX</td>\n",
       "      <td>1/21/2018</td>\n",
       "      <td>4.0</td>\n",
       "      <td>I've heard a lot of great things about this pl...</td>\n",
       "      <td>NaN</td>\n",
       "      <td>Shake Shack</td>\n",
       "      <td>Plano</td>\n",
       "    </tr>\n",
       "    <tr>\n",
       "      <th>4</th>\n",
       "      <td>LG N.</td>\n",
       "      <td>Prosper, TX</td>\n",
       "      <td>1/7/2018</td>\n",
       "      <td>4.0</td>\n",
       "      <td>1-18Tried this place out over the weekend whil...</td>\n",
       "      <td>NaN</td>\n",
       "      <td>Shake Shack</td>\n",
       "      <td>Plano</td>\n",
       "    </tr>\n",
       "  </tbody>\n",
       "</table>\n",
       "</div>"
      ],
      "text/plain": [
       "          name             location review_date  rating  \\\n",
       "0     Nancy T.          Garland, TX   4/21/2018     4.0   \n",
       "1  De Amber P.            Allen, TX   4/16/2018     5.0   \n",
       "2      Jodi F.             Katy, TX   4/15/2018     4.0   \n",
       "3   Shalise G.  Addison, Dallas, TX   1/21/2018     4.0   \n",
       "4        LG N.          Prosper, TX    1/7/2018     4.0   \n",
       "\n",
       "                                             content date_reply   restaurant  \\\n",
       "0  It's a good quality burger and that's why it's...        NaN  Shake Shack   \n",
       "1  Kind of upset it took me this long to find thi...        NaN  Shake Shack   \n",
       "2  Had the smokehouse stack (with red peppers)- i...        NaN  Shake Shack   \n",
       "3  I've heard a lot of great things about this pl...        NaN  Shake Shack   \n",
       "4  1-18Tried this place out over the weekend whil...        NaN  Shake Shack   \n",
       "\n",
       "  outlet  \n",
       "0  Plano  \n",
       "1  Plano  \n",
       "2  Plano  \n",
       "3  Plano  \n",
       "4  Plano  "
      ]
     },
     "execution_count": 13,
     "metadata": {},
     "output_type": "execute_result"
    }
   ],
   "source": [
    "df.head()"
   ]
  },
  {
   "cell_type": "code",
   "execution_count": 14,
   "metadata": {},
   "outputs": [
    {
     "data": {
      "text/plain": [
       "(1416, 8)"
      ]
     },
     "execution_count": 14,
     "metadata": {},
     "output_type": "execute_result"
    }
   ],
   "source": [
    "df.shape"
   ]
  },
  {
   "cell_type": "markdown",
   "metadata": {},
   "source": [
    "# II. Process Variables"
   ]
  },
  {
   "cell_type": "markdown",
   "metadata": {},
   "source": [
    "### get reviewer's name"
   ]
  },
  {
   "cell_type": "code",
   "execution_count": 15,
   "metadata": {
    "collapsed": true
   },
   "outputs": [],
   "source": [
    "def get_name(x):    \n",
    "    try:\n",
    "        a = x.split(' ')\n",
    "        a.pop()\n",
    "        return ''.join(a)\n",
    "    except:\n",
    "        return x\n",
    "\n",
    "df['name'] = df['name'].apply(lambda x: get_name(x))"
   ]
  },
  {
   "cell_type": "code",
   "execution_count": 16,
   "metadata": {},
   "outputs": [
    {
     "data": {
      "text/html": [
       "<div>\n",
       "<style>\n",
       "    .dataframe thead tr:only-child th {\n",
       "        text-align: right;\n",
       "    }\n",
       "\n",
       "    .dataframe thead th {\n",
       "        text-align: left;\n",
       "    }\n",
       "\n",
       "    .dataframe tbody tr th {\n",
       "        vertical-align: top;\n",
       "    }\n",
       "</style>\n",
       "<table border=\"1\" class=\"dataframe\">\n",
       "  <thead>\n",
       "    <tr style=\"text-align: right;\">\n",
       "      <th></th>\n",
       "      <th>name</th>\n",
       "      <th>location</th>\n",
       "      <th>review_date</th>\n",
       "      <th>rating</th>\n",
       "      <th>content</th>\n",
       "      <th>date_reply</th>\n",
       "      <th>restaurant</th>\n",
       "      <th>outlet</th>\n",
       "    </tr>\n",
       "  </thead>\n",
       "  <tbody>\n",
       "    <tr>\n",
       "      <th>0</th>\n",
       "      <td>Nancy</td>\n",
       "      <td>Garland, TX</td>\n",
       "      <td>4/21/2018</td>\n",
       "      <td>4.0</td>\n",
       "      <td>It's a good quality burger and that's why it's...</td>\n",
       "      <td>NaN</td>\n",
       "      <td>Shake Shack</td>\n",
       "      <td>Plano</td>\n",
       "    </tr>\n",
       "    <tr>\n",
       "      <th>1</th>\n",
       "      <td>DeAmber</td>\n",
       "      <td>Allen, TX</td>\n",
       "      <td>4/16/2018</td>\n",
       "      <td>5.0</td>\n",
       "      <td>Kind of upset it took me this long to find thi...</td>\n",
       "      <td>NaN</td>\n",
       "      <td>Shake Shack</td>\n",
       "      <td>Plano</td>\n",
       "    </tr>\n",
       "    <tr>\n",
       "      <th>2</th>\n",
       "      <td>Jodi</td>\n",
       "      <td>Katy, TX</td>\n",
       "      <td>4/15/2018</td>\n",
       "      <td>4.0</td>\n",
       "      <td>Had the smokehouse stack (with red peppers)- i...</td>\n",
       "      <td>NaN</td>\n",
       "      <td>Shake Shack</td>\n",
       "      <td>Plano</td>\n",
       "    </tr>\n",
       "    <tr>\n",
       "      <th>3</th>\n",
       "      <td>Shalise</td>\n",
       "      <td>Addison, Dallas, TX</td>\n",
       "      <td>1/21/2018</td>\n",
       "      <td>4.0</td>\n",
       "      <td>I've heard a lot of great things about this pl...</td>\n",
       "      <td>NaN</td>\n",
       "      <td>Shake Shack</td>\n",
       "      <td>Plano</td>\n",
       "    </tr>\n",
       "    <tr>\n",
       "      <th>4</th>\n",
       "      <td>LG</td>\n",
       "      <td>Prosper, TX</td>\n",
       "      <td>1/7/2018</td>\n",
       "      <td>4.0</td>\n",
       "      <td>1-18Tried this place out over the weekend whil...</td>\n",
       "      <td>NaN</td>\n",
       "      <td>Shake Shack</td>\n",
       "      <td>Plano</td>\n",
       "    </tr>\n",
       "  </tbody>\n",
       "</table>\n",
       "</div>"
      ],
      "text/plain": [
       "      name             location review_date  rating  \\\n",
       "0    Nancy          Garland, TX   4/21/2018     4.0   \n",
       "1  DeAmber            Allen, TX   4/16/2018     5.0   \n",
       "2     Jodi             Katy, TX   4/15/2018     4.0   \n",
       "3  Shalise  Addison, Dallas, TX   1/21/2018     4.0   \n",
       "4       LG          Prosper, TX    1/7/2018     4.0   \n",
       "\n",
       "                                             content date_reply   restaurant  \\\n",
       "0  It's a good quality burger and that's why it's...        NaN  Shake Shack   \n",
       "1  Kind of upset it took me this long to find thi...        NaN  Shake Shack   \n",
       "2  Had the smokehouse stack (with red peppers)- i...        NaN  Shake Shack   \n",
       "3  I've heard a lot of great things about this pl...        NaN  Shake Shack   \n",
       "4  1-18Tried this place out over the weekend whil...        NaN  Shake Shack   \n",
       "\n",
       "  outlet  \n",
       "0  Plano  \n",
       "1  Plano  \n",
       "2  Plano  \n",
       "3  Plano  \n",
       "4  Plano  "
      ]
     },
     "execution_count": 16,
     "metadata": {},
     "output_type": "execute_result"
    }
   ],
   "source": [
    "df.head()"
   ]
  },
  {
   "cell_type": "markdown",
   "metadata": {},
   "source": [
    "### get state"
   ]
  },
  {
   "cell_type": "code",
   "execution_count": 17,
   "metadata": {
    "collapsed": true
   },
   "outputs": [],
   "source": [
    "#Location \n",
    "def get_origin(x):\n",
    "    return x.split(',')[-1].strip()\n",
    "\n",
    "df['state'] = df['location'].apply(lambda x: get_origin(x))"
   ]
  },
  {
   "cell_type": "code",
   "execution_count": 18,
   "metadata": {},
   "outputs": [
    {
     "data": {
      "text/plain": [
       "array(['TX', 'CA', 'OK', 'UT', 'VA', 'NC', 'DC', 'FL', 'NY', 'AZ', 'OR',\n",
       "       'MA', 'AR', 'TN', 'KY', 'SC', 'NE', 'MO', 'WA', 'OH', 'NV', 'AL',\n",
       "       'GA', 'WI', 'ME', 'United Kingdom', 'HI', 'MS', 'PA', 'NH', 'NJ',\n",
       "       'IN', 'KS', 'MI', 'IL', 'CO', 'LA', 'Japan', 'Italy',\n",
       "       'Republic of Ireland', 'IA', 'MD', 'NM', 'CT', 'Canada'],\n",
       "      dtype=object)"
      ]
     },
     "execution_count": 18,
     "metadata": {},
     "output_type": "execute_result"
    }
   ],
   "source": [
    "df['state'].unique()"
   ]
  },
  {
   "cell_type": "markdown",
   "metadata": {},
   "source": [
    "### create locality variable"
   ]
  },
  {
   "cell_type": "code",
   "execution_count": 19,
   "metadata": {
    "collapsed": true
   },
   "outputs": [],
   "source": [
    "def get_locality(x):\n",
    "    if x == 'TX':\n",
    "        return 'Local'\n",
    "    else:\n",
    "        return 'Non-local'\n",
    "\n",
    "df['locality'] = df['state'].apply(lambda x: get_locality(x))"
   ]
  },
  {
   "cell_type": "code",
   "execution_count": 20,
   "metadata": {},
   "outputs": [
    {
     "data": {
      "text/html": [
       "<div>\n",
       "<style>\n",
       "    .dataframe thead tr:only-child th {\n",
       "        text-align: right;\n",
       "    }\n",
       "\n",
       "    .dataframe thead th {\n",
       "        text-align: left;\n",
       "    }\n",
       "\n",
       "    .dataframe tbody tr th {\n",
       "        vertical-align: top;\n",
       "    }\n",
       "</style>\n",
       "<table border=\"1\" class=\"dataframe\">\n",
       "  <thead>\n",
       "    <tr style=\"text-align: right;\">\n",
       "      <th></th>\n",
       "      <th>location</th>\n",
       "      <th>locality</th>\n",
       "    </tr>\n",
       "  </thead>\n",
       "  <tbody>\n",
       "    <tr>\n",
       "      <th>0</th>\n",
       "      <td>Garland, TX</td>\n",
       "      <td>Local</td>\n",
       "    </tr>\n",
       "    <tr>\n",
       "      <th>1</th>\n",
       "      <td>Allen, TX</td>\n",
       "      <td>Local</td>\n",
       "    </tr>\n",
       "    <tr>\n",
       "      <th>2</th>\n",
       "      <td>Katy, TX</td>\n",
       "      <td>Local</td>\n",
       "    </tr>\n",
       "    <tr>\n",
       "      <th>3</th>\n",
       "      <td>Addison, Dallas, TX</td>\n",
       "      <td>Local</td>\n",
       "    </tr>\n",
       "    <tr>\n",
       "      <th>4</th>\n",
       "      <td>Prosper, TX</td>\n",
       "      <td>Local</td>\n",
       "    </tr>\n",
       "  </tbody>\n",
       "</table>\n",
       "</div>"
      ],
      "text/plain": [
       "              location locality\n",
       "0          Garland, TX    Local\n",
       "1            Allen, TX    Local\n",
       "2             Katy, TX    Local\n",
       "3  Addison, Dallas, TX    Local\n",
       "4          Prosper, TX    Local"
      ]
     },
     "execution_count": 20,
     "metadata": {},
     "output_type": "execute_result"
    }
   ],
   "source": [
    "df[['location', 'locality']].head()"
   ]
  },
  {
   "cell_type": "code",
   "execution_count": 21,
   "metadata": {},
   "outputs": [
    {
     "data": {
      "text/html": [
       "<div>\n",
       "<style>\n",
       "    .dataframe thead tr:only-child th {\n",
       "        text-align: right;\n",
       "    }\n",
       "\n",
       "    .dataframe thead th {\n",
       "        text-align: left;\n",
       "    }\n",
       "\n",
       "    .dataframe tbody tr th {\n",
       "        vertical-align: top;\n",
       "    }\n",
       "</style>\n",
       "<table border=\"1\" class=\"dataframe\">\n",
       "  <thead>\n",
       "    <tr style=\"text-align: right;\">\n",
       "      <th></th>\n",
       "      <th>location</th>\n",
       "    </tr>\n",
       "    <tr>\n",
       "      <th>locality</th>\n",
       "      <th></th>\n",
       "    </tr>\n",
       "  </thead>\n",
       "  <tbody>\n",
       "    <tr>\n",
       "      <th>Local</th>\n",
       "      <td>1120</td>\n",
       "    </tr>\n",
       "    <tr>\n",
       "      <th>Non-local</th>\n",
       "      <td>296</td>\n",
       "    </tr>\n",
       "  </tbody>\n",
       "</table>\n",
       "</div>"
      ],
      "text/plain": [
       "           location\n",
       "locality           \n",
       "Local          1120\n",
       "Non-local       296"
      ]
     },
     "execution_count": 21,
     "metadata": {},
     "output_type": "execute_result"
    }
   ],
   "source": [
    "df[['location', 'locality']].groupby(['locality']).count()"
   ]
  },
  {
   "cell_type": "code",
   "execution_count": 22,
   "metadata": {},
   "outputs": [
    {
     "data": {
      "text/plain": [
       "array(['TX', 'CA', 'OK', 'UT', 'VA', 'NC', 'DC', 'FL', 'NY', 'AZ', 'OR',\n",
       "       'MA', 'AR', 'TN', 'KY', 'SC', 'NE', 'MO', 'WA', 'OH', 'NV', 'AL',\n",
       "       'GA', 'WI', 'ME', 'United Kingdom', 'HI', 'MS', 'PA', 'NH', 'NJ',\n",
       "       'IN', 'KS', 'MI', 'IL', 'CO', 'LA', 'Japan', 'Italy',\n",
       "       'Republic of Ireland', 'IA', 'MD', 'NM', 'CT', 'Canada'],\n",
       "      dtype=object)"
      ]
     },
     "execution_count": 22,
     "metadata": {},
     "output_type": "execute_result"
    }
   ],
   "source": [
    "df['state'].unique()"
   ]
  },
  {
   "cell_type": "markdown",
   "metadata": {},
   "source": [
    "### create new column date as review date in date format"
   ]
  },
  {
   "cell_type": "code",
   "execution_count": 23,
   "metadata": {
    "collapsed": true
   },
   "outputs": [],
   "source": [
    "def transform(x):\n",
    "    date = x.split('\\n')[0]    \n",
    "    lis = date.split('/')[::-1]\n",
    "    if len(lis[1]) == 1:\n",
    "        lis[1] = ''.join(['0',lis[1]])\n",
    "    if len(lis[2]) == 1:\n",
    "        lis[2] = ''.join(['0',lis[2]])\n",
    "    return '-'.join([lis[0],lis[2],lis[1]])\n",
    "\n",
    "df['date'] = df['review_date'].apply(lambda x: transform(x))"
   ]
  },
  {
   "cell_type": "code",
   "execution_count": 24,
   "metadata": {
    "collapsed": true
   },
   "outputs": [],
   "source": [
    "df['date'] = pd.to_datetime(df['date'])"
   ]
  },
  {
   "cell_type": "code",
   "execution_count": 25,
   "metadata": {},
   "outputs": [
    {
     "data": {
      "text/html": [
       "<div>\n",
       "<style>\n",
       "    .dataframe thead tr:only-child th {\n",
       "        text-align: right;\n",
       "    }\n",
       "\n",
       "    .dataframe thead th {\n",
       "        text-align: left;\n",
       "    }\n",
       "\n",
       "    .dataframe tbody tr th {\n",
       "        vertical-align: top;\n",
       "    }\n",
       "</style>\n",
       "<table border=\"1\" class=\"dataframe\">\n",
       "  <thead>\n",
       "    <tr style=\"text-align: right;\">\n",
       "      <th></th>\n",
       "      <th>name</th>\n",
       "      <th>location</th>\n",
       "      <th>review_date</th>\n",
       "      <th>rating</th>\n",
       "      <th>content</th>\n",
       "      <th>date_reply</th>\n",
       "      <th>restaurant</th>\n",
       "      <th>outlet</th>\n",
       "      <th>state</th>\n",
       "      <th>locality</th>\n",
       "      <th>date</th>\n",
       "    </tr>\n",
       "  </thead>\n",
       "  <tbody>\n",
       "    <tr>\n",
       "      <th>0</th>\n",
       "      <td>Nancy</td>\n",
       "      <td>Garland, TX</td>\n",
       "      <td>4/21/2018</td>\n",
       "      <td>4.0</td>\n",
       "      <td>It's a good quality burger and that's why it's...</td>\n",
       "      <td>NaN</td>\n",
       "      <td>Shake Shack</td>\n",
       "      <td>Plano</td>\n",
       "      <td>TX</td>\n",
       "      <td>Local</td>\n",
       "      <td>2018-04-21</td>\n",
       "    </tr>\n",
       "    <tr>\n",
       "      <th>1</th>\n",
       "      <td>DeAmber</td>\n",
       "      <td>Allen, TX</td>\n",
       "      <td>4/16/2018</td>\n",
       "      <td>5.0</td>\n",
       "      <td>Kind of upset it took me this long to find thi...</td>\n",
       "      <td>NaN</td>\n",
       "      <td>Shake Shack</td>\n",
       "      <td>Plano</td>\n",
       "      <td>TX</td>\n",
       "      <td>Local</td>\n",
       "      <td>2018-04-16</td>\n",
       "    </tr>\n",
       "    <tr>\n",
       "      <th>2</th>\n",
       "      <td>Jodi</td>\n",
       "      <td>Katy, TX</td>\n",
       "      <td>4/15/2018</td>\n",
       "      <td>4.0</td>\n",
       "      <td>Had the smokehouse stack (with red peppers)- i...</td>\n",
       "      <td>NaN</td>\n",
       "      <td>Shake Shack</td>\n",
       "      <td>Plano</td>\n",
       "      <td>TX</td>\n",
       "      <td>Local</td>\n",
       "      <td>2018-04-15</td>\n",
       "    </tr>\n",
       "    <tr>\n",
       "      <th>3</th>\n",
       "      <td>Shalise</td>\n",
       "      <td>Addison, Dallas, TX</td>\n",
       "      <td>1/21/2018</td>\n",
       "      <td>4.0</td>\n",
       "      <td>I've heard a lot of great things about this pl...</td>\n",
       "      <td>NaN</td>\n",
       "      <td>Shake Shack</td>\n",
       "      <td>Plano</td>\n",
       "      <td>TX</td>\n",
       "      <td>Local</td>\n",
       "      <td>2018-01-21</td>\n",
       "    </tr>\n",
       "    <tr>\n",
       "      <th>4</th>\n",
       "      <td>LG</td>\n",
       "      <td>Prosper, TX</td>\n",
       "      <td>1/7/2018</td>\n",
       "      <td>4.0</td>\n",
       "      <td>1-18Tried this place out over the weekend whil...</td>\n",
       "      <td>NaN</td>\n",
       "      <td>Shake Shack</td>\n",
       "      <td>Plano</td>\n",
       "      <td>TX</td>\n",
       "      <td>Local</td>\n",
       "      <td>2018-01-07</td>\n",
       "    </tr>\n",
       "  </tbody>\n",
       "</table>\n",
       "</div>"
      ],
      "text/plain": [
       "      name             location review_date  rating  \\\n",
       "0    Nancy          Garland, TX   4/21/2018     4.0   \n",
       "1  DeAmber            Allen, TX   4/16/2018     5.0   \n",
       "2     Jodi             Katy, TX   4/15/2018     4.0   \n",
       "3  Shalise  Addison, Dallas, TX   1/21/2018     4.0   \n",
       "4       LG          Prosper, TX    1/7/2018     4.0   \n",
       "\n",
       "                                             content date_reply   restaurant  \\\n",
       "0  It's a good quality burger and that's why it's...        NaN  Shake Shack   \n",
       "1  Kind of upset it took me this long to find thi...        NaN  Shake Shack   \n",
       "2  Had the smokehouse stack (with red peppers)- i...        NaN  Shake Shack   \n",
       "3  I've heard a lot of great things about this pl...        NaN  Shake Shack   \n",
       "4  1-18Tried this place out over the weekend whil...        NaN  Shake Shack   \n",
       "\n",
       "  outlet state locality       date  \n",
       "0  Plano    TX    Local 2018-04-21  \n",
       "1  Plano    TX    Local 2018-04-16  \n",
       "2  Plano    TX    Local 2018-04-15  \n",
       "3  Plano    TX    Local 2018-01-21  \n",
       "4  Plano    TX    Local 2018-01-07  "
      ]
     },
     "execution_count": 25,
     "metadata": {},
     "output_type": "execute_result"
    }
   ],
   "source": [
    "df.head()"
   ]
  },
  {
   "cell_type": "markdown",
   "metadata": {},
   "source": [
    "### extract year, month, and day as new columns (helps in sorting!)"
   ]
  },
  {
   "cell_type": "code",
   "execution_count": 26,
   "metadata": {
    "collapsed": true
   },
   "outputs": [],
   "source": [
    "#Year\n",
    "def get_year(x):\n",
    "    return int(x.year) \n",
    "\n",
    "df['year'] = df['date'].apply(lambda x: get_year(x))"
   ]
  },
  {
   "cell_type": "code",
   "execution_count": 27,
   "metadata": {},
   "outputs": [
    {
     "data": {
      "text/html": [
       "<div>\n",
       "<style>\n",
       "    .dataframe thead tr:only-child th {\n",
       "        text-align: right;\n",
       "    }\n",
       "\n",
       "    .dataframe thead th {\n",
       "        text-align: left;\n",
       "    }\n",
       "\n",
       "    .dataframe tbody tr th {\n",
       "        vertical-align: top;\n",
       "    }\n",
       "</style>\n",
       "<table border=\"1\" class=\"dataframe\">\n",
       "  <thead>\n",
       "    <tr style=\"text-align: right;\">\n",
       "      <th></th>\n",
       "      <th>date</th>\n",
       "      <th>year</th>\n",
       "    </tr>\n",
       "  </thead>\n",
       "  <tbody>\n",
       "    <tr>\n",
       "      <th>0</th>\n",
       "      <td>2018-04-21</td>\n",
       "      <td>2018</td>\n",
       "    </tr>\n",
       "    <tr>\n",
       "      <th>1</th>\n",
       "      <td>2018-04-16</td>\n",
       "      <td>2018</td>\n",
       "    </tr>\n",
       "    <tr>\n",
       "      <th>2</th>\n",
       "      <td>2018-04-15</td>\n",
       "      <td>2018</td>\n",
       "    </tr>\n",
       "    <tr>\n",
       "      <th>3</th>\n",
       "      <td>2018-01-21</td>\n",
       "      <td>2018</td>\n",
       "    </tr>\n",
       "    <tr>\n",
       "      <th>4</th>\n",
       "      <td>2018-01-07</td>\n",
       "      <td>2018</td>\n",
       "    </tr>\n",
       "  </tbody>\n",
       "</table>\n",
       "</div>"
      ],
      "text/plain": [
       "        date  year\n",
       "0 2018-04-21  2018\n",
       "1 2018-04-16  2018\n",
       "2 2018-04-15  2018\n",
       "3 2018-01-21  2018\n",
       "4 2018-01-07  2018"
      ]
     },
     "execution_count": 27,
     "metadata": {},
     "output_type": "execute_result"
    }
   ],
   "source": [
    "df[['date','year']].head()"
   ]
  },
  {
   "cell_type": "code",
   "execution_count": 28,
   "metadata": {
    "collapsed": true
   },
   "outputs": [],
   "source": [
    "#Month\n",
    "def get_month(x):\n",
    "    return int(x.month) \n",
    "\n",
    "df['month'] = df['date'].apply(lambda x: get_month(x))"
   ]
  },
  {
   "cell_type": "code",
   "execution_count": 29,
   "metadata": {
    "scrolled": true
   },
   "outputs": [
    {
     "data": {
      "text/html": [
       "<div>\n",
       "<style>\n",
       "    .dataframe thead tr:only-child th {\n",
       "        text-align: right;\n",
       "    }\n",
       "\n",
       "    .dataframe thead th {\n",
       "        text-align: left;\n",
       "    }\n",
       "\n",
       "    .dataframe tbody tr th {\n",
       "        vertical-align: top;\n",
       "    }\n",
       "</style>\n",
       "<table border=\"1\" class=\"dataframe\">\n",
       "  <thead>\n",
       "    <tr style=\"text-align: right;\">\n",
       "      <th></th>\n",
       "      <th>date</th>\n",
       "      <th>month</th>\n",
       "    </tr>\n",
       "  </thead>\n",
       "  <tbody>\n",
       "    <tr>\n",
       "      <th>0</th>\n",
       "      <td>2018-04-21</td>\n",
       "      <td>4</td>\n",
       "    </tr>\n",
       "    <tr>\n",
       "      <th>1</th>\n",
       "      <td>2018-04-16</td>\n",
       "      <td>4</td>\n",
       "    </tr>\n",
       "    <tr>\n",
       "      <th>2</th>\n",
       "      <td>2018-04-15</td>\n",
       "      <td>4</td>\n",
       "    </tr>\n",
       "    <tr>\n",
       "      <th>3</th>\n",
       "      <td>2018-01-21</td>\n",
       "      <td>1</td>\n",
       "    </tr>\n",
       "    <tr>\n",
       "      <th>4</th>\n",
       "      <td>2018-01-07</td>\n",
       "      <td>1</td>\n",
       "    </tr>\n",
       "  </tbody>\n",
       "</table>\n",
       "</div>"
      ],
      "text/plain": [
       "        date  month\n",
       "0 2018-04-21      4\n",
       "1 2018-04-16      4\n",
       "2 2018-04-15      4\n",
       "3 2018-01-21      1\n",
       "4 2018-01-07      1"
      ]
     },
     "execution_count": 29,
     "metadata": {},
     "output_type": "execute_result"
    }
   ],
   "source": [
    "df[['date','month']].head()"
   ]
  },
  {
   "cell_type": "code",
   "execution_count": 30,
   "metadata": {
    "collapsed": true
   },
   "outputs": [],
   "source": [
    "#Day\n",
    "def get_day(x):\n",
    "    return int(x.day) \n",
    "\n",
    "df['day'] = df['date'].apply(lambda x: get_day(x))"
   ]
  },
  {
   "cell_type": "code",
   "execution_count": 31,
   "metadata": {},
   "outputs": [
    {
     "data": {
      "text/html": [
       "<div>\n",
       "<style>\n",
       "    .dataframe thead tr:only-child th {\n",
       "        text-align: right;\n",
       "    }\n",
       "\n",
       "    .dataframe thead th {\n",
       "        text-align: left;\n",
       "    }\n",
       "\n",
       "    .dataframe tbody tr th {\n",
       "        vertical-align: top;\n",
       "    }\n",
       "</style>\n",
       "<table border=\"1\" class=\"dataframe\">\n",
       "  <thead>\n",
       "    <tr style=\"text-align: right;\">\n",
       "      <th></th>\n",
       "      <th>date</th>\n",
       "      <th>day</th>\n",
       "    </tr>\n",
       "  </thead>\n",
       "  <tbody>\n",
       "    <tr>\n",
       "      <th>0</th>\n",
       "      <td>2018-04-21</td>\n",
       "      <td>21</td>\n",
       "    </tr>\n",
       "    <tr>\n",
       "      <th>1</th>\n",
       "      <td>2018-04-16</td>\n",
       "      <td>16</td>\n",
       "    </tr>\n",
       "    <tr>\n",
       "      <th>2</th>\n",
       "      <td>2018-04-15</td>\n",
       "      <td>15</td>\n",
       "    </tr>\n",
       "    <tr>\n",
       "      <th>3</th>\n",
       "      <td>2018-01-21</td>\n",
       "      <td>21</td>\n",
       "    </tr>\n",
       "    <tr>\n",
       "      <th>4</th>\n",
       "      <td>2018-01-07</td>\n",
       "      <td>7</td>\n",
       "    </tr>\n",
       "  </tbody>\n",
       "</table>\n",
       "</div>"
      ],
      "text/plain": [
       "        date  day\n",
       "0 2018-04-21   21\n",
       "1 2018-04-16   16\n",
       "2 2018-04-15   15\n",
       "3 2018-01-21   21\n",
       "4 2018-01-07    7"
      ]
     },
     "execution_count": 31,
     "metadata": {},
     "output_type": "execute_result"
    }
   ],
   "source": [
    "df[['date','day']].head()"
   ]
  },
  {
   "cell_type": "markdown",
   "metadata": {},
   "source": [
    "# III. Save Dataset"
   ]
  },
  {
   "cell_type": "code",
   "execution_count": 32,
   "metadata": {
    "collapsed": true
   },
   "outputs": [],
   "source": [
    "df.to_pickle('./Data/Texas')"
   ]
  },
  {
   "cell_type": "code",
   "execution_count": null,
   "metadata": {
    "collapsed": true
   },
   "outputs": [],
   "source": []
  }
 ],
 "metadata": {
  "kernelspec": {
   "display_name": "Python 3",
   "language": "python",
   "name": "python3"
  },
  "language_info": {
   "codemirror_mode": {
    "name": "ipython",
    "version": 3
   },
   "file_extension": ".py",
   "mimetype": "text/x-python",
   "name": "python",
   "nbconvert_exporter": "python",
   "pygments_lexer": "ipython3",
   "version": "3.6.2"
  }
 },
 "nbformat": 4,
 "nbformat_minor": 2
}
