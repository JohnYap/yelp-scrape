{
 "cells": [
  {
   "cell_type": "code",
   "execution_count": 1,
   "metadata": {
    "collapsed": true,
    "slideshow": {
     "slide_type": "skip"
    }
   },
   "outputs": [],
   "source": [
    "import numpy as np\n",
    "import pandas as pd"
   ]
  },
  {
   "cell_type": "code",
   "execution_count": 2,
   "metadata": {
    "collapsed": true,
    "slideshow": {
     "slide_type": "skip"
    }
   },
   "outputs": [],
   "source": [
    "xl = pd.ExcelFile('./data/shake_shack.xlsx')"
   ]
  },
  {
   "cell_type": "code",
   "execution_count": 3,
   "metadata": {
    "slideshow": {
     "slide_type": "skip"
    }
   },
   "outputs": [
    {
     "name": "stdout",
     "output_type": "stream",
     "text": [
      "['Shake Shack', 'In-N-Out', 'States']\n"
     ]
    }
   ],
   "source": [
    "print(xl.sheet_names)"
   ]
  },
  {
   "cell_type": "code",
   "execution_count": 5,
   "metadata": {
    "collapsed": true,
    "slideshow": {
     "slide_type": "skip"
    }
   },
   "outputs": [],
   "source": [
    "df = xl.parse('Shake Shack')"
   ]
  },
  {
   "cell_type": "code",
   "execution_count": 6,
   "metadata": {
    "slideshow": {
     "slide_type": "skip"
    }
   },
   "outputs": [
    {
     "data": {
      "text/html": [
       "<div>\n",
       "<style>\n",
       "    .dataframe thead tr:only-child th {\n",
       "        text-align: right;\n",
       "    }\n",
       "\n",
       "    .dataframe thead th {\n",
       "        text-align: left;\n",
       "    }\n",
       "\n",
       "    .dataframe tbody tr th {\n",
       "        vertical-align: top;\n",
       "    }\n",
       "</style>\n",
       "<table border=\"1\" class=\"dataframe\">\n",
       "  <thead>\n",
       "    <tr style=\"text-align: right;\">\n",
       "      <th></th>\n",
       "      <th>Address</th>\n",
       "      <th>City_State</th>\n",
       "      <th>Zip_Code</th>\n",
       "      <th>Reviews</th>\n",
       "      <th>Rating_Mean</th>\n",
       "      <th>First_Review_Date</th>\n",
       "      <th>Present_Date</th>\n",
       "      <th>Months_Open</th>\n",
       "      <th>Years_Open</th>\n",
       "      <th>Reviews_Per_Month</th>\n",
       "    </tr>\n",
       "  </thead>\n",
       "  <tbody>\n",
       "    <tr>\n",
       "      <th>0</th>\n",
       "      <td>6201 Hollywood Blvd, Ste 104</td>\n",
       "      <td>Hollywood, CA</td>\n",
       "      <td>90028</td>\n",
       "      <td>431</td>\n",
       "      <td>3.5</td>\n",
       "      <td>2016-10-12</td>\n",
       "      <td>2018-05-10</td>\n",
       "      <td>19.166667</td>\n",
       "      <td>1.597222</td>\n",
       "      <td>22.486957</td>\n",
       "    </tr>\n",
       "    <tr>\n",
       "      <th>1</th>\n",
       "      <td>8520 Santa Monica Blvd</td>\n",
       "      <td>West Hollywood, CA</td>\n",
       "      <td>90069</td>\n",
       "      <td>1564</td>\n",
       "      <td>3.5</td>\n",
       "      <td>2016-03-15</td>\n",
       "      <td>2018-05-10</td>\n",
       "      <td>26.200000</td>\n",
       "      <td>2.183333</td>\n",
       "      <td>59.694656</td>\n",
       "    </tr>\n",
       "    <tr>\n",
       "      <th>2</th>\n",
       "      <td>400 W 8th St</td>\n",
       "      <td>Los Angeles, CA</td>\n",
       "      <td>90014</td>\n",
       "      <td>81</td>\n",
       "      <td>3.5</td>\n",
       "      <td>2018-03-07</td>\n",
       "      <td>2018-05-10</td>\n",
       "      <td>2.133333</td>\n",
       "      <td>0.177778</td>\n",
       "      <td>37.968750</td>\n",
       "    </tr>\n",
       "    <tr>\n",
       "      <th>3</th>\n",
       "      <td>10250 Santa Monica Blvd</td>\n",
       "      <td>Los Angeles, CA</td>\n",
       "      <td>90067</td>\n",
       "      <td>320</td>\n",
       "      <td>3.5</td>\n",
       "      <td>2017-01-21</td>\n",
       "      <td>2018-05-10</td>\n",
       "      <td>15.800000</td>\n",
       "      <td>1.316667</td>\n",
       "      <td>20.253165</td>\n",
       "    </tr>\n",
       "    <tr>\n",
       "      <th>4</th>\n",
       "      <td>252 S Brand Blvd</td>\n",
       "      <td>Glendale, CA</td>\n",
       "      <td>91204</td>\n",
       "      <td>974</td>\n",
       "      <td>3.5</td>\n",
       "      <td>2016-09-22</td>\n",
       "      <td>2018-05-10</td>\n",
       "      <td>19.833333</td>\n",
       "      <td>1.652778</td>\n",
       "      <td>49.109244</td>\n",
       "    </tr>\n",
       "  </tbody>\n",
       "</table>\n",
       "</div>"
      ],
      "text/plain": [
       "                        Address           City_State  Zip_Code  Reviews  \\\n",
       "0  6201 Hollywood Blvd, Ste 104       Hollywood, CA      90028      431   \n",
       "1        8520 Santa Monica Blvd  West Hollywood, CA      90069     1564   \n",
       "2                  400 W 8th St     Los Angeles, CA      90014       81   \n",
       "3       10250 Santa Monica Blvd     Los Angeles, CA      90067      320   \n",
       "4              252 S Brand Blvd        Glendale, CA      91204      974   \n",
       "\n",
       "   Rating_Mean First_Review_Date Present_Date  Months_Open  Years_Open  \\\n",
       "0          3.5        2016-10-12   2018-05-10    19.166667    1.597222   \n",
       "1          3.5        2016-03-15   2018-05-10    26.200000    2.183333   \n",
       "2          3.5        2018-03-07   2018-05-10     2.133333    0.177778   \n",
       "3          3.5        2017-01-21   2018-05-10    15.800000    1.316667   \n",
       "4          3.5        2016-09-22   2018-05-10    19.833333    1.652778   \n",
       "\n",
       "   Reviews_Per_Month  \n",
       "0          22.486957  \n",
       "1          59.694656  \n",
       "2          37.968750  \n",
       "3          20.253165  \n",
       "4          49.109244  "
      ]
     },
     "execution_count": 6,
     "metadata": {},
     "output_type": "execute_result"
    }
   ],
   "source": [
    "df.head()"
   ]
  },
  {
   "cell_type": "code",
   "execution_count": 7,
   "metadata": {
    "slideshow": {
     "slide_type": "skip"
    }
   },
   "outputs": [
    {
     "data": {
      "text/plain": [
       "(105, 10)"
      ]
     },
     "execution_count": 7,
     "metadata": {},
     "output_type": "execute_result"
    }
   ],
   "source": [
    "#Note: Website says 106 but only got 102\n",
    "df.shape"
   ]
  },
  {
   "cell_type": "code",
   "execution_count": 8,
   "metadata": {
    "slideshow": {
     "slide_type": "skip"
    }
   },
   "outputs": [
    {
     "data": {
      "text/plain": [
       "Index(['Address', 'City_State', 'Zip_Code', 'Reviews', 'Rating_Mean',\n",
       "       'First_Review_Date', 'Present_Date', 'Months_Open', 'Years_Open',\n",
       "       'Reviews_Per_Month'],\n",
       "      dtype='object')"
      ]
     },
     "execution_count": 8,
     "metadata": {},
     "output_type": "execute_result"
    }
   ],
   "source": [
    "df.columns"
   ]
  },
  {
   "cell_type": "markdown",
   "metadata": {
    "slideshow": {
     "slide_type": "skip"
    }
   },
   "source": [
    "### - Extract State"
   ]
  },
  {
   "cell_type": "code",
   "execution_count": 9,
   "metadata": {
    "collapsed": true,
    "slideshow": {
     "slide_type": "skip"
    }
   },
   "outputs": [],
   "source": [
    "def get_city(x):\n",
    "    return x.split(',')[0]\n",
    "\n",
    "df['City'] = df['City_State'].apply(lambda x: get_city(x))"
   ]
  },
  {
   "cell_type": "code",
   "execution_count": 10,
   "metadata": {
    "collapsed": true,
    "slideshow": {
     "slide_type": "skip"
    }
   },
   "outputs": [],
   "source": [
    "def get_state(x):\n",
    "    return x.split(',')[1]\n",
    "\n",
    "df['State'] = df['City_State'].apply(lambda x: get_state(x).strip())"
   ]
  },
  {
   "cell_type": "markdown",
   "metadata": {
    "slideshow": {
     "slide_type": "skip"
    }
   },
   "source": [
    "### - Create Years_Open"
   ]
  },
  {
   "cell_type": "code",
   "execution_count": 11,
   "metadata": {
    "collapsed": true,
    "slideshow": {
     "slide_type": "skip"
    }
   },
   "outputs": [],
   "source": [
    "df['Years_Open'] = df['Months_Open']/12"
   ]
  },
  {
   "cell_type": "code",
   "execution_count": 12,
   "metadata": {
    "scrolled": false,
    "slideshow": {
     "slide_type": "skip"
    }
   },
   "outputs": [
    {
     "data": {
      "text/html": [
       "<div>\n",
       "<style>\n",
       "    .dataframe thead tr:only-child th {\n",
       "        text-align: right;\n",
       "    }\n",
       "\n",
       "    .dataframe thead th {\n",
       "        text-align: left;\n",
       "    }\n",
       "\n",
       "    .dataframe tbody tr th {\n",
       "        vertical-align: top;\n",
       "    }\n",
       "</style>\n",
       "<table border=\"1\" class=\"dataframe\">\n",
       "  <thead>\n",
       "    <tr style=\"text-align: right;\">\n",
       "      <th></th>\n",
       "      <th>Address</th>\n",
       "      <th>City_State</th>\n",
       "      <th>Zip_Code</th>\n",
       "      <th>Reviews</th>\n",
       "      <th>Rating_Mean</th>\n",
       "      <th>First_Review_Date</th>\n",
       "      <th>Present_Date</th>\n",
       "      <th>Months_Open</th>\n",
       "      <th>Years_Open</th>\n",
       "      <th>Reviews_Per_Month</th>\n",
       "      <th>City</th>\n",
       "      <th>State</th>\n",
       "    </tr>\n",
       "  </thead>\n",
       "  <tbody>\n",
       "    <tr>\n",
       "      <th>0</th>\n",
       "      <td>6201 Hollywood Blvd, Ste 104</td>\n",
       "      <td>Hollywood, CA</td>\n",
       "      <td>90028</td>\n",
       "      <td>431</td>\n",
       "      <td>3.5</td>\n",
       "      <td>2016-10-12</td>\n",
       "      <td>2018-05-10</td>\n",
       "      <td>19.166667</td>\n",
       "      <td>1.597222</td>\n",
       "      <td>22.486957</td>\n",
       "      <td>Hollywood</td>\n",
       "      <td>CA</td>\n",
       "    </tr>\n",
       "    <tr>\n",
       "      <th>1</th>\n",
       "      <td>8520 Santa Monica Blvd</td>\n",
       "      <td>West Hollywood, CA</td>\n",
       "      <td>90069</td>\n",
       "      <td>1564</td>\n",
       "      <td>3.5</td>\n",
       "      <td>2016-03-15</td>\n",
       "      <td>2018-05-10</td>\n",
       "      <td>26.200000</td>\n",
       "      <td>2.183333</td>\n",
       "      <td>59.694656</td>\n",
       "      <td>West Hollywood</td>\n",
       "      <td>CA</td>\n",
       "    </tr>\n",
       "    <tr>\n",
       "      <th>2</th>\n",
       "      <td>400 W 8th St</td>\n",
       "      <td>Los Angeles, CA</td>\n",
       "      <td>90014</td>\n",
       "      <td>81</td>\n",
       "      <td>3.5</td>\n",
       "      <td>2018-03-07</td>\n",
       "      <td>2018-05-10</td>\n",
       "      <td>2.133333</td>\n",
       "      <td>0.177778</td>\n",
       "      <td>37.968750</td>\n",
       "      <td>Los Angeles</td>\n",
       "      <td>CA</td>\n",
       "    </tr>\n",
       "    <tr>\n",
       "      <th>3</th>\n",
       "      <td>10250 Santa Monica Blvd</td>\n",
       "      <td>Los Angeles, CA</td>\n",
       "      <td>90067</td>\n",
       "      <td>320</td>\n",
       "      <td>3.5</td>\n",
       "      <td>2017-01-21</td>\n",
       "      <td>2018-05-10</td>\n",
       "      <td>15.800000</td>\n",
       "      <td>1.316667</td>\n",
       "      <td>20.253165</td>\n",
       "      <td>Los Angeles</td>\n",
       "      <td>CA</td>\n",
       "    </tr>\n",
       "    <tr>\n",
       "      <th>4</th>\n",
       "      <td>252 S Brand Blvd</td>\n",
       "      <td>Glendale, CA</td>\n",
       "      <td>91204</td>\n",
       "      <td>974</td>\n",
       "      <td>3.5</td>\n",
       "      <td>2016-09-22</td>\n",
       "      <td>2018-05-10</td>\n",
       "      <td>19.833333</td>\n",
       "      <td>1.652778</td>\n",
       "      <td>49.109244</td>\n",
       "      <td>Glendale</td>\n",
       "      <td>CA</td>\n",
       "    </tr>\n",
       "  </tbody>\n",
       "</table>\n",
       "</div>"
      ],
      "text/plain": [
       "                        Address           City_State  Zip_Code  Reviews  \\\n",
       "0  6201 Hollywood Blvd, Ste 104       Hollywood, CA      90028      431   \n",
       "1        8520 Santa Monica Blvd  West Hollywood, CA      90069     1564   \n",
       "2                  400 W 8th St     Los Angeles, CA      90014       81   \n",
       "3       10250 Santa Monica Blvd     Los Angeles, CA      90067      320   \n",
       "4              252 S Brand Blvd        Glendale, CA      91204      974   \n",
       "\n",
       "   Rating_Mean First_Review_Date Present_Date  Months_Open  Years_Open  \\\n",
       "0          3.5        2016-10-12   2018-05-10    19.166667    1.597222   \n",
       "1          3.5        2016-03-15   2018-05-10    26.200000    2.183333   \n",
       "2          3.5        2018-03-07   2018-05-10     2.133333    0.177778   \n",
       "3          3.5        2017-01-21   2018-05-10    15.800000    1.316667   \n",
       "4          3.5        2016-09-22   2018-05-10    19.833333    1.652778   \n",
       "\n",
       "   Reviews_Per_Month            City State  \n",
       "0          22.486957       Hollywood    CA  \n",
       "1          59.694656  West Hollywood    CA  \n",
       "2          37.968750     Los Angeles    CA  \n",
       "3          20.253165     Los Angeles    CA  \n",
       "4          49.109244        Glendale    CA  "
      ]
     },
     "execution_count": 12,
     "metadata": {},
     "output_type": "execute_result"
    }
   ],
   "source": [
    "df.head()"
   ]
  },
  {
   "cell_type": "code",
   "execution_count": 13,
   "metadata": {
    "collapsed": true,
    "slideshow": {
     "slide_type": "skip"
    }
   },
   "outputs": [],
   "source": [
    "from matplotlib import pyplot as plt\n",
    "%matplotlib inline\n",
    "plt.style.use('ggplot')"
   ]
  },
  {
   "cell_type": "code",
   "execution_count": 13,
   "metadata": {
    "collapsed": true,
    "slideshow": {
     "slide_type": "skip"
    }
   },
   "outputs": [],
   "source": [
    "#plt.hist(df['Years_Open'], bins = 30, facecolor = 'g')"
   ]
  },
  {
   "cell_type": "markdown",
   "metadata": {},
   "source": [
    "## a. Number of Years Restaurant Was Open"
   ]
  },
  {
   "cell_type": "code",
   "execution_count": 14,
   "metadata": {
    "collapsed": true,
    "scrolled": false,
    "slideshow": {
     "slide_type": "skip"
    }
   },
   "outputs": [],
   "source": [
    "#plt.figure(figsize=(12,6))\n",
    "#cm = plt.cm.get_cmap('RdYlBu_r')\n",
    "\n",
    "# Get the histogramp\n",
    "#Y,X = np.histogram(df['Years_Open'], 20, normed=1)\n",
    "#x_span = X.max()-X.min()\n",
    "#C = [cm(((x-X.min())/x_span)) for x in X]\n",
    "\n",
    "#plt.bar(X[:-1],Y,color=C,width=X[1]-X[0])\n",
    "#plt.show()"
   ]
  },
  {
   "cell_type": "code",
   "execution_count": 30,
   "metadata": {
    "slideshow": {
     "slide_type": "slide"
    }
   },
   "outputs": [
    {
     "data": {
      "text/html": [
       "<script>requirejs.config({paths: { 'plotly': ['https://cdn.plot.ly/plotly-latest.min']},});if(!window.Plotly) {{require(['plotly'],function(plotly) {window.Plotly=plotly;});}}</script>"
      ],
      "text/vnd.plotly.v1+html": [
       "<script>requirejs.config({paths: { 'plotly': ['https://cdn.plot.ly/plotly-latest.min']},});if(!window.Plotly) {{require(['plotly'],function(plotly) {window.Plotly=plotly;});}}</script>"
      ]
     },
     "metadata": {},
     "output_type": "display_data"
    }
   ],
   "source": [
    "import plotly\n",
    "\n",
    "plotly.offline.init_notebook_mode(connected=True)"
   ]
  },
  {
   "cell_type": "code",
   "execution_count": null,
   "metadata": {
    "collapsed": true,
    "slideshow": {
     "slide_type": "skip"
    }
   },
   "outputs": [],
   "source": [
    "from plotly.graph_objs import Figure, Histogram, Layout\n",
    "min_ = df['Years_Open'].min()\n",
    "max_ = df['Years_Open'].max()\n",
    "data = [Histogram(x=df['Years_Open'], \n",
    "                  xbins=dict(start=min_,\n",
    "                             end=max_,\n",
    "                             size=(max_-min_)/15))]\n",
    "layout = Layout(title=\"Histogram of Years Open\",\n",
    "                bargap=0.2)\n",
    "fig = Figure(data=data, layout=layout)"
   ]
  },
  {
   "cell_type": "code",
   "execution_count": 31,
   "metadata": {
    "slideshow": {
     "slide_type": "slide"
    }
   },
   "outputs": [
    {
     "data": {
      "application/vnd.plotly.v1+json": {
       "data": [
        {
         "type": "histogram",
         "x": [
          1.5972222222222223,
          2.183333333333333,
          0.17777777777777778,
          1.3166666666666667,
          1.6527777777777777,
          0.8777777777777778,
          0.5222222222222223,
          0.39166666666666666,
          0.5638888888888889,
          0.39444444444444443,
          1.136111111111111,
          3.411111111111111,
          0.8388888888888889,
          2.6277777777777778,
          2.202777777777778,
          2.2333333333333334,
          1.6777777777777778,
          0.14166666666666666,
          0.7277777777777777,
          3.0638888888888887,
          2.744444444444444,
          1.7138888888888888,
          0.625,
          1.1333333333333333,
          1.0166666666666666,
          0.19722222222222222,
          1.5416666666666667,
          1.9444444444444444,
          0.4222222222222222,
          0.4361111111111111,
          0.9777777777777777,
          3.5666666666666664,
          2.9972222222222222,
          2.7055555555555557,
          1.0138888888888888,
          3.661111111111111,
          1.5916666666666668,
          1.2305555555555556,
          0.5444444444444444,
          0.03888888888888889,
          0.08055555555555556,
          0.9027777777777778,
          3.8305555555555557,
          2.763888888888889,
          5.8999999999999995,
          8.225,
          0.1361111111111111,
          5.122222222222223,
          3.7944444444444443,
          1.1666666666666667,
          7.083333333333333,
          4.944444444444445,
          3.9388888888888887,
          0.5638888888888889,
          1.1472222222222224,
          6.997222222222223,
          2.0444444444444447,
          1.4333333333333333,
          0.5666666666666667,
          3.2805555555555554,
          0.6472222222222223,
          1.4222222222222223,
          6.011111111111112,
          4.638888888888888,
          1.511111111111111,
          0.13055555555555556,
          1.7027777777777777,
          4.608333333333333,
          3.0722222222222224,
          0.7222222222222222,
          4.566666666666666,
          3.5083333333333333,
          5.561111111111111,
          2.5500000000000003,
          3.9472222222222224,
          1.8472222222222223,
          6.480555555555555,
          7.041666666666667,
          0.5916666666666667,
          3.8027777777777776,
          12.988888888888889,
          1.4527777777777777,
          2.4,
          3.5305555555555554,
          4.6611111111111105,
          7.947222222222222,
          9.686111111111112,
          8.452777777777778,
          2.3944444444444444,
          0.7277777777777777,
          1.9833333333333334,
          9.230555555555556,
          5.033333333333333,
          1.2,
          1.1222222222222222,
          2.6861111111111113,
          1.825,
          7.875,
          6.877777777777777,
          1.361111111111111,
          5.733333333333333,
          3.2416666666666667,
          1.7583333333333335,
          4.413888888888889,
          5.205555555555556
         ],
         "xbins": {
          "end": 12.988888888888889,
          "size": 0.8633333333333333,
          "start": 0.03888888888888889
         }
        }
       ],
       "layout": {
        "bargap": 0.2,
        "title": "Histogram of Years Open"
       }
      },
      "text/html": [
       "<div id=\"18273288-b745-4ff9-9560-1f64387e291f\" style=\"height: 525px; width: 100%;\" class=\"plotly-graph-div\"></div><script type=\"text/javascript\">require([\"plotly\"], function(Plotly) { window.PLOTLYENV=window.PLOTLYENV || {};window.PLOTLYENV.BASE_URL=\"https://plot.ly\";Plotly.newPlot(\"18273288-b745-4ff9-9560-1f64387e291f\", [{\"type\": \"histogram\", \"x\": [1.5972222222222223, 2.183333333333333, 0.17777777777777778, 1.3166666666666667, 1.6527777777777777, 0.8777777777777778, 0.5222222222222223, 0.39166666666666666, 0.5638888888888889, 0.39444444444444443, 1.136111111111111, 3.411111111111111, 0.8388888888888889, 2.6277777777777778, 2.202777777777778, 2.2333333333333334, 1.6777777777777778, 0.14166666666666666, 0.7277777777777777, 3.0638888888888887, 2.744444444444444, 1.7138888888888888, 0.625, 1.1333333333333333, 1.0166666666666666, 0.19722222222222222, 1.5416666666666667, 1.9444444444444444, 0.4222222222222222, 0.4361111111111111, 0.9777777777777777, 3.5666666666666664, 2.9972222222222222, 2.7055555555555557, 1.0138888888888888, 3.661111111111111, 1.5916666666666668, 1.2305555555555556, 0.5444444444444444, 0.03888888888888889, 0.08055555555555556, 0.9027777777777778, 3.8305555555555557, 2.763888888888889, 5.8999999999999995, 8.225, 0.1361111111111111, 5.122222222222223, 3.7944444444444443, 1.1666666666666667, 7.083333333333333, 4.944444444444445, 3.9388888888888887, 0.5638888888888889, 1.1472222222222224, 6.997222222222223, 2.0444444444444447, 1.4333333333333333, 0.5666666666666667, 3.2805555555555554, 0.6472222222222223, 1.4222222222222223, 6.011111111111112, 4.638888888888888, 1.511111111111111, 0.13055555555555556, 1.7027777777777777, 4.608333333333333, 3.0722222222222224, 0.7222222222222222, 4.566666666666666, 3.5083333333333333, 5.561111111111111, 2.5500000000000003, 3.9472222222222224, 1.8472222222222223, 6.480555555555555, 7.041666666666667, 0.5916666666666667, 3.8027777777777776, 12.988888888888889, 1.4527777777777777, 2.4, 3.5305555555555554, 4.6611111111111105, 7.947222222222222, 9.686111111111112, 8.452777777777778, 2.3944444444444444, 0.7277777777777777, 1.9833333333333334, 9.230555555555556, 5.033333333333333, 1.2, 1.1222222222222222, 2.6861111111111113, 1.825, 7.875, 6.877777777777777, 1.361111111111111, 5.733333333333333, 3.2416666666666667, 1.7583333333333335, 4.413888888888889, 5.205555555555556], \"xbins\": {\"start\": 0.03888888888888889, \"end\": 12.988888888888889, \"size\": 0.8633333333333333}}], {\"title\": \"Histogram of Years Open\", \"bargap\": 0.2}, {\"showLink\": false, \"linkText\": \"Export to plot.ly\"})});</script>"
      ],
      "text/vnd.plotly.v1+html": [
       "<div id=\"18273288-b745-4ff9-9560-1f64387e291f\" style=\"height: 525px; width: 100%;\" class=\"plotly-graph-div\"></div><script type=\"text/javascript\">require([\"plotly\"], function(Plotly) { window.PLOTLYENV=window.PLOTLYENV || {};window.PLOTLYENV.BASE_URL=\"https://plot.ly\";Plotly.newPlot(\"18273288-b745-4ff9-9560-1f64387e291f\", [{\"type\": \"histogram\", \"x\": [1.5972222222222223, 2.183333333333333, 0.17777777777777778, 1.3166666666666667, 1.6527777777777777, 0.8777777777777778, 0.5222222222222223, 0.39166666666666666, 0.5638888888888889, 0.39444444444444443, 1.136111111111111, 3.411111111111111, 0.8388888888888889, 2.6277777777777778, 2.202777777777778, 2.2333333333333334, 1.6777777777777778, 0.14166666666666666, 0.7277777777777777, 3.0638888888888887, 2.744444444444444, 1.7138888888888888, 0.625, 1.1333333333333333, 1.0166666666666666, 0.19722222222222222, 1.5416666666666667, 1.9444444444444444, 0.4222222222222222, 0.4361111111111111, 0.9777777777777777, 3.5666666666666664, 2.9972222222222222, 2.7055555555555557, 1.0138888888888888, 3.661111111111111, 1.5916666666666668, 1.2305555555555556, 0.5444444444444444, 0.03888888888888889, 0.08055555555555556, 0.9027777777777778, 3.8305555555555557, 2.763888888888889, 5.8999999999999995, 8.225, 0.1361111111111111, 5.122222222222223, 3.7944444444444443, 1.1666666666666667, 7.083333333333333, 4.944444444444445, 3.9388888888888887, 0.5638888888888889, 1.1472222222222224, 6.997222222222223, 2.0444444444444447, 1.4333333333333333, 0.5666666666666667, 3.2805555555555554, 0.6472222222222223, 1.4222222222222223, 6.011111111111112, 4.638888888888888, 1.511111111111111, 0.13055555555555556, 1.7027777777777777, 4.608333333333333, 3.0722222222222224, 0.7222222222222222, 4.566666666666666, 3.5083333333333333, 5.561111111111111, 2.5500000000000003, 3.9472222222222224, 1.8472222222222223, 6.480555555555555, 7.041666666666667, 0.5916666666666667, 3.8027777777777776, 12.988888888888889, 1.4527777777777777, 2.4, 3.5305555555555554, 4.6611111111111105, 7.947222222222222, 9.686111111111112, 8.452777777777778, 2.3944444444444444, 0.7277777777777777, 1.9833333333333334, 9.230555555555556, 5.033333333333333, 1.2, 1.1222222222222222, 2.6861111111111113, 1.825, 7.875, 6.877777777777777, 1.361111111111111, 5.733333333333333, 3.2416666666666667, 1.7583333333333335, 4.413888888888889, 5.205555555555556], \"xbins\": {\"start\": 0.03888888888888889, \"end\": 12.988888888888889, \"size\": 0.8633333333333333}}], {\"title\": \"Histogram of Years Open\", \"bargap\": 0.2}, {\"showLink\": false, \"linkText\": \"Export to plot.ly\"})});</script>"
      ]
     },
     "metadata": {},
     "output_type": "display_data"
    }
   ],
   "source": [
    "plotly.offline.iplot(fig, show_link=False, image_width=600, image_height=400)"
   ]
  },
  {
   "cell_type": "markdown",
   "metadata": {
    "slideshow": {
     "slide_type": "skip"
    }
   },
   "source": [
    "#### - This graph shows that there are many relatively new restaurants and have been open for 5 or more years."
   ]
  },
  {
   "cell_type": "markdown",
   "metadata": {
    "slideshow": {
     "slide_type": "slide"
    }
   },
   "source": [
    "## b. Table for Sorting"
   ]
  },
  {
   "cell_type": "code",
   "execution_count": 25,
   "metadata": {
    "slideshow": {
     "slide_type": "slide"
    }
   },
   "outputs": [
    {
     "data": {
      "text/html": [
       "<div>\n",
       "<style>\n",
       "    .dataframe thead tr:only-child th {\n",
       "        text-align: right;\n",
       "    }\n",
       "\n",
       "    .dataframe thead th {\n",
       "        text-align: left;\n",
       "    }\n",
       "\n",
       "    .dataframe tbody tr th {\n",
       "        vertical-align: top;\n",
       "    }\n",
       "</style>\n",
       "<table border=\"1\" class=\"dataframe\">\n",
       "  <thead>\n",
       "    <tr style=\"text-align: right;\">\n",
       "      <th></th>\n",
       "      <th>Address</th>\n",
       "      <th>City_State</th>\n",
       "      <th>Reviews</th>\n",
       "      <th>Rating_Mean</th>\n",
       "      <th>Years_Open</th>\n",
       "    </tr>\n",
       "  </thead>\n",
       "  <tbody>\n",
       "    <tr>\n",
       "      <th>80</th>\n",
       "      <td>E 23rd St &amp; Madison Ave</td>\n",
       "      <td>New York, NY</td>\n",
       "      <td>5360</td>\n",
       "      <td>4.0</td>\n",
       "      <td>12.988889</td>\n",
       "    </tr>\n",
       "    <tr>\n",
       "      <th>86</th>\n",
       "      <td>366 Columbus Ave</td>\n",
       "      <td>New York, NY</td>\n",
       "      <td>2228</td>\n",
       "      <td>4.0</td>\n",
       "      <td>9.686111</td>\n",
       "    </tr>\n",
       "    <tr>\n",
       "      <th>91</th>\n",
       "      <td>12301 Roosevelt Ave</td>\n",
       "      <td>Queens, NY</td>\n",
       "      <td>154</td>\n",
       "      <td>3.5</td>\n",
       "      <td>9.230556</td>\n",
       "    </tr>\n",
       "    <tr>\n",
       "      <th>87</th>\n",
       "      <td>154 E 86th St</td>\n",
       "      <td>New York, NY</td>\n",
       "      <td>1260</td>\n",
       "      <td>4.0</td>\n",
       "      <td>8.452778</td>\n",
       "    </tr>\n",
       "    <tr>\n",
       "      <th>45</th>\n",
       "      <td>1111 Lincoln Rd</td>\n",
       "      <td>Miami Beach, FL</td>\n",
       "      <td>820</td>\n",
       "      <td>4.0</td>\n",
       "      <td>8.225000</td>\n",
       "    </tr>\n",
       "    <tr>\n",
       "      <th>85</th>\n",
       "      <td>691 8th Ave</td>\n",
       "      <td>New York, NY</td>\n",
       "      <td>2835</td>\n",
       "      <td>4.0</td>\n",
       "      <td>7.947222</td>\n",
       "    </tr>\n",
       "    <tr>\n",
       "      <th>97</th>\n",
       "      <td>267 Union Ave</td>\n",
       "      <td>Saratoga Springs, NY</td>\n",
       "      <td>18</td>\n",
       "      <td>4.0</td>\n",
       "      <td>7.875000</td>\n",
       "    </tr>\n",
       "    <tr>\n",
       "      <th>50</th>\n",
       "      <td>1216 18th St NW</td>\n",
       "      <td>Washington, DC</td>\n",
       "      <td>1289</td>\n",
       "      <td>3.5</td>\n",
       "      <td>7.083333</td>\n",
       "    </tr>\n",
       "    <tr>\n",
       "      <th>77</th>\n",
       "      <td>215 Murray St</td>\n",
       "      <td>New York, NY</td>\n",
       "      <td>848</td>\n",
       "      <td>4.0</td>\n",
       "      <td>7.041667</td>\n",
       "    </tr>\n",
       "    <tr>\n",
       "      <th>55</th>\n",
       "      <td>1500 S Capitol St SE</td>\n",
       "      <td>Washington, DC</td>\n",
       "      <td>82</td>\n",
       "      <td>3.0</td>\n",
       "      <td>6.997222</td>\n",
       "    </tr>\n",
       "  </tbody>\n",
       "</table>\n",
       "</div>"
      ],
      "text/plain": [
       "                    Address             City_State  Reviews  Rating_Mean  \\\n",
       "80  E 23rd St & Madison Ave          New York, NY      5360          4.0   \n",
       "86         366 Columbus Ave          New York, NY      2228          4.0   \n",
       "91      12301 Roosevelt Ave            Queens, NY       154          3.5   \n",
       "87            154 E 86th St          New York, NY      1260          4.0   \n",
       "45          1111 Lincoln Rd       Miami Beach, FL       820          4.0   \n",
       "85              691 8th Ave          New York, NY      2835          4.0   \n",
       "97            267 Union Ave  Saratoga Springs, NY        18          4.0   \n",
       "50          1216 18th St NW        Washington, DC      1289          3.5   \n",
       "77            215 Murray St          New York, NY       848          4.0   \n",
       "55     1500 S Capitol St SE        Washington, DC        82          3.0   \n",
       "\n",
       "    Years_Open  \n",
       "80   12.988889  \n",
       "86    9.686111  \n",
       "91    9.230556  \n",
       "87    8.452778  \n",
       "45    8.225000  \n",
       "85    7.947222  \n",
       "97    7.875000  \n",
       "50    7.083333  \n",
       "77    7.041667  \n",
       "55    6.997222  "
      ]
     },
     "execution_count": 25,
     "metadata": {},
     "output_type": "execute_result"
    }
   ],
   "source": [
    "df[['Address','City_State','Reviews','Rating_Mean','Years_Open']].sort_values(['Years_Open'],ascending=False).head(10)"
   ]
  },
  {
   "cell_type": "code",
   "execution_count": 16,
   "metadata": {
    "collapsed": true,
    "slideshow": {
     "slide_type": "skip"
    }
   },
   "outputs": [],
   "source": [
    "def get_state(x):\n",
    "    return x.split(',')[-1].strip()\n",
    "\n",
    "df['State'] = df['City_State'].apply(lambda x: get_state(x))"
   ]
  },
  {
   "cell_type": "code",
   "execution_count": 18,
   "metadata": {
    "collapsed": true,
    "slideshow": {
     "slide_type": "skip"
    }
   },
   "outputs": [],
   "source": [
    "#df_NY = df[df['State'] == 'NY']\n",
    "#df_NY[['Address', 'City_State', 'Reviews','Rating_Mean', 'Reviews_Per_Month',\\\n",
    "#    'Years_Open', 'Months_Open', 'State']].sort_values(['Reviews'], ascending=False)"
   ]
  },
  {
   "cell_type": "code",
   "execution_count": 19,
   "metadata": {
    "collapsed": true,
    "slideshow": {
     "slide_type": "skip"
    }
   },
   "outputs": [],
   "source": [
    "#df_NY.count()"
   ]
  },
  {
   "cell_type": "code",
   "execution_count": 18,
   "metadata": {
    "collapsed": true,
    "slideshow": {
     "slide_type": "skip"
    }
   },
   "outputs": [],
   "source": [
    "group = df[['State','City_State']].groupby(['State'])"
   ]
  },
  {
   "cell_type": "code",
   "execution_count": 19,
   "metadata": {
    "slideshow": {
     "slide_type": "slide"
    }
   },
   "outputs": [
    {
     "data": {
      "text/html": [
       "<div>\n",
       "<style>\n",
       "    .dataframe thead tr:only-child th {\n",
       "        text-align: right;\n",
       "    }\n",
       "\n",
       "    .dataframe thead th {\n",
       "        text-align: left;\n",
       "    }\n",
       "\n",
       "    .dataframe tbody tr th {\n",
       "        vertical-align: top;\n",
       "    }\n",
       "</style>\n",
       "<table border=\"1\" class=\"dataframe\">\n",
       "  <thead>\n",
       "    <tr style=\"text-align: right;\">\n",
       "      <th></th>\n",
       "      <th>City_State</th>\n",
       "    </tr>\n",
       "    <tr>\n",
       "      <th>State</th>\n",
       "      <th></th>\n",
       "    </tr>\n",
       "  </thead>\n",
       "  <tbody>\n",
       "    <tr>\n",
       "      <th>NY</th>\n",
       "      <td>26</td>\n",
       "    </tr>\n",
       "    <tr>\n",
       "      <th>CA</th>\n",
       "      <td>9</td>\n",
       "    </tr>\n",
       "    <tr>\n",
       "      <th>TX</th>\n",
       "      <td>9</td>\n",
       "    </tr>\n",
       "    <tr>\n",
       "      <th>FL</th>\n",
       "      <td>8</td>\n",
       "    </tr>\n",
       "    <tr>\n",
       "      <th>DC</th>\n",
       "      <td>7</td>\n",
       "    </tr>\n",
       "    <tr>\n",
       "      <th>PA</th>\n",
       "      <td>5</td>\n",
       "    </tr>\n",
       "    <tr>\n",
       "      <th>NV</th>\n",
       "      <td>5</td>\n",
       "    </tr>\n",
       "    <tr>\n",
       "      <th>NJ</th>\n",
       "      <td>5</td>\n",
       "    </tr>\n",
       "    <tr>\n",
       "      <th>MD</th>\n",
       "      <td>4</td>\n",
       "    </tr>\n",
       "    <tr>\n",
       "      <th>IL</th>\n",
       "      <td>4</td>\n",
       "    </tr>\n",
       "    <tr>\n",
       "      <th>MA</th>\n",
       "      <td>4</td>\n",
       "    </tr>\n",
       "    <tr>\n",
       "      <th>AZ</th>\n",
       "      <td>3</td>\n",
       "    </tr>\n",
       "    <tr>\n",
       "      <th>CT</th>\n",
       "      <td>3</td>\n",
       "    </tr>\n",
       "    <tr>\n",
       "      <th>MI</th>\n",
       "      <td>2</td>\n",
       "    </tr>\n",
       "    <tr>\n",
       "      <th>GA</th>\n",
       "      <td>2</td>\n",
       "    </tr>\n",
       "  </tbody>\n",
       "</table>\n",
       "</div>"
      ],
      "text/plain": [
       "       City_State\n",
       "State            \n",
       "NY             26\n",
       "CA              9\n",
       "TX              9\n",
       "FL              8\n",
       "DC              7\n",
       "PA              5\n",
       "NV              5\n",
       "NJ              5\n",
       "MD              4\n",
       "IL              4\n",
       "MA              4\n",
       "AZ              3\n",
       "CT              3\n",
       "MI              2\n",
       "GA              2"
      ]
     },
     "execution_count": 19,
     "metadata": {},
     "output_type": "execute_result"
    }
   ],
   "source": [
    "group.count().sort_values('City_State', ascending=False).head(15)"
   ]
  },
  {
   "cell_type": "markdown",
   "metadata": {
    "slideshow": {
     "slide_type": "slide"
    }
   },
   "source": [
    "## c. Average Rating vs Years Open"
   ]
  },
  {
   "cell_type": "code",
   "execution_count": null,
   "metadata": {
    "collapsed": true,
    "slideshow": {
     "slide_type": "skip"
    }
   },
   "outputs": [],
   "source": [
    "from plotly.graph_objs import Scatter, Layout, Figure\n",
    "#from plotly.graph_objs import Figure, Histogram\n",
    "\n",
    "data = [Scatter(x=df['Years_Open'], y=df['Rating_Mean'], mode = 'markers')]#, text=df['movie_title'])]\n",
    "layout = Layout(title=\"Average Rating vs Years Open\")\n",
    "\n",
    "fig = Figure(data=data, layout=layout)"
   ]
  },
  {
   "cell_type": "code",
   "execution_count": 32,
   "metadata": {
    "slideshow": {
     "slide_type": "slide"
    }
   },
   "outputs": [
    {
     "data": {
      "application/vnd.plotly.v1+json": {
       "data": [
        {
         "mode": "markers",
         "type": "scatter",
         "x": [
          1.5972222222222223,
          2.183333333333333,
          0.17777777777777778,
          1.3166666666666667,
          1.6527777777777777,
          0.8777777777777778,
          0.5222222222222223,
          0.39166666666666666,
          0.5638888888888889,
          0.39444444444444443,
          1.136111111111111,
          3.411111111111111,
          0.8388888888888889,
          2.6277777777777778,
          2.202777777777778,
          2.2333333333333334,
          1.6777777777777778,
          0.14166666666666666,
          0.7277777777777777,
          3.0638888888888887,
          2.744444444444444,
          1.7138888888888888,
          0.625,
          1.1333333333333333,
          1.0166666666666666,
          0.19722222222222222,
          1.5416666666666667,
          1.9444444444444444,
          0.4222222222222222,
          0.4361111111111111,
          0.9777777777777777,
          3.5666666666666664,
          2.9972222222222222,
          2.7055555555555557,
          1.0138888888888888,
          3.661111111111111,
          1.5916666666666668,
          1.2305555555555556,
          0.5444444444444444,
          0.03888888888888889,
          0.08055555555555556,
          0.9027777777777778,
          3.8305555555555557,
          2.763888888888889,
          5.8999999999999995,
          8.225,
          0.1361111111111111,
          5.122222222222223,
          3.7944444444444443,
          1.1666666666666667,
          7.083333333333333,
          4.944444444444445,
          3.9388888888888887,
          0.5638888888888889,
          1.1472222222222224,
          6.997222222222223,
          2.0444444444444447,
          1.4333333333333333,
          0.5666666666666667,
          3.2805555555555554,
          0.6472222222222223,
          1.4222222222222223,
          6.011111111111112,
          4.638888888888888,
          1.511111111111111,
          0.13055555555555556,
          1.7027777777777777,
          4.608333333333333,
          3.0722222222222224,
          0.7222222222222222,
          4.566666666666666,
          3.5083333333333333,
          5.561111111111111,
          2.5500000000000003,
          3.9472222222222224,
          1.8472222222222223,
          6.480555555555555,
          7.041666666666667,
          0.5916666666666667,
          3.8027777777777776,
          12.988888888888889,
          1.4527777777777777,
          2.4,
          3.5305555555555554,
          4.6611111111111105,
          7.947222222222222,
          9.686111111111112,
          8.452777777777778,
          2.3944444444444444,
          0.7277777777777777,
          1.9833333333333334,
          9.230555555555556,
          5.033333333333333,
          1.2,
          1.1222222222222222,
          2.6861111111111113,
          1.825,
          7.875,
          6.877777777777777,
          1.361111111111111,
          5.733333333333333,
          3.2416666666666667,
          1.7583333333333335,
          4.413888888888889,
          5.205555555555556
         ],
         "y": [
          3.5,
          3.5,
          3.5,
          3.5,
          3.5,
          3,
          3.5,
          3.5,
          3.5,
          3.5,
          4,
          4,
          4,
          3.5,
          3.5,
          3.5,
          3.5,
          4,
          3.5,
          3.5,
          3.5,
          3.5,
          3.5,
          3.5,
          3.5,
          3.5,
          3.5,
          3.5,
          3.5,
          3.5,
          3.5,
          3.5,
          3.5,
          3.5,
          3.5,
          3.5,
          3.5,
          3.5,
          3,
          4,
          4,
          4,
          3.5,
          4,
          3.5,
          4,
          4.5,
          3.5,
          3.5,
          3.5,
          3.5,
          3.5,
          3.5,
          3.5,
          3.5,
          3,
          3.5,
          3,
          4,
          3.5,
          4,
          3,
          3.5,
          3.5,
          3,
          3.5,
          3,
          3.5,
          3.5,
          3.5,
          3.5,
          4,
          3.5,
          3,
          4,
          3.5,
          4,
          4,
          4,
          4,
          4,
          3.5,
          4,
          4,
          3.5,
          4,
          4,
          4,
          4,
          4,
          4,
          3.5,
          3.5,
          3.5,
          3.5,
          4,
          3.5,
          4,
          3.5,
          3.5,
          3.5,
          3.5,
          3.5,
          3.5,
          3
         ]
        }
       ],
       "layout": {
        "title": "Average Rating vs Years Open"
       }
      },
      "text/html": [
       "<div id=\"593cbfdf-8143-4f6c-adb4-f60a2771f160\" style=\"height: 525px; width: 100%;\" class=\"plotly-graph-div\"></div><script type=\"text/javascript\">require([\"plotly\"], function(Plotly) { window.PLOTLYENV=window.PLOTLYENV || {};window.PLOTLYENV.BASE_URL=\"https://plot.ly\";Plotly.newPlot(\"593cbfdf-8143-4f6c-adb4-f60a2771f160\", [{\"type\": \"scatter\", \"x\": [1.5972222222222223, 2.183333333333333, 0.17777777777777778, 1.3166666666666667, 1.6527777777777777, 0.8777777777777778, 0.5222222222222223, 0.39166666666666666, 0.5638888888888889, 0.39444444444444443, 1.136111111111111, 3.411111111111111, 0.8388888888888889, 2.6277777777777778, 2.202777777777778, 2.2333333333333334, 1.6777777777777778, 0.14166666666666666, 0.7277777777777777, 3.0638888888888887, 2.744444444444444, 1.7138888888888888, 0.625, 1.1333333333333333, 1.0166666666666666, 0.19722222222222222, 1.5416666666666667, 1.9444444444444444, 0.4222222222222222, 0.4361111111111111, 0.9777777777777777, 3.5666666666666664, 2.9972222222222222, 2.7055555555555557, 1.0138888888888888, 3.661111111111111, 1.5916666666666668, 1.2305555555555556, 0.5444444444444444, 0.03888888888888889, 0.08055555555555556, 0.9027777777777778, 3.8305555555555557, 2.763888888888889, 5.8999999999999995, 8.225, 0.1361111111111111, 5.122222222222223, 3.7944444444444443, 1.1666666666666667, 7.083333333333333, 4.944444444444445, 3.9388888888888887, 0.5638888888888889, 1.1472222222222224, 6.997222222222223, 2.0444444444444447, 1.4333333333333333, 0.5666666666666667, 3.2805555555555554, 0.6472222222222223, 1.4222222222222223, 6.011111111111112, 4.638888888888888, 1.511111111111111, 0.13055555555555556, 1.7027777777777777, 4.608333333333333, 3.0722222222222224, 0.7222222222222222, 4.566666666666666, 3.5083333333333333, 5.561111111111111, 2.5500000000000003, 3.9472222222222224, 1.8472222222222223, 6.480555555555555, 7.041666666666667, 0.5916666666666667, 3.8027777777777776, 12.988888888888889, 1.4527777777777777, 2.4, 3.5305555555555554, 4.6611111111111105, 7.947222222222222, 9.686111111111112, 8.452777777777778, 2.3944444444444444, 0.7277777777777777, 1.9833333333333334, 9.230555555555556, 5.033333333333333, 1.2, 1.1222222222222222, 2.6861111111111113, 1.825, 7.875, 6.877777777777777, 1.361111111111111, 5.733333333333333, 3.2416666666666667, 1.7583333333333335, 4.413888888888889, 5.205555555555556], \"y\": [3.5, 3.5, 3.5, 3.5, 3.5, 3.0, 3.5, 3.5, 3.5, 3.5, 4.0, 4.0, 4.0, 3.5, 3.5, 3.5, 3.5, 4.0, 3.5, 3.5, 3.5, 3.5, 3.5, 3.5, 3.5, 3.5, 3.5, 3.5, 3.5, 3.5, 3.5, 3.5, 3.5, 3.5, 3.5, 3.5, 3.5, 3.5, 3.0, 4.0, 4.0, 4.0, 3.5, 4.0, 3.5, 4.0, 4.5, 3.5, 3.5, 3.5, 3.5, 3.5, 3.5, 3.5, 3.5, 3.0, 3.5, 3.0, 4.0, 3.5, 4.0, 3.0, 3.5, 3.5, 3.0, 3.5, 3.0, 3.5, 3.5, 3.5, 3.5, 4.0, 3.5, 3.0, 4.0, 3.5, 4.0, 4.0, 4.0, 4.0, 4.0, 3.5, 4.0, 4.0, 3.5, 4.0, 4.0, 4.0, 4.0, 4.0, 4.0, 3.5, 3.5, 3.5, 3.5, 4.0, 3.5, 4.0, 3.5, 3.5, 3.5, 3.5, 3.5, 3.5, 3.0], \"mode\": \"markers\"}], {\"title\": \"Average Rating vs Years Open\"}, {\"showLink\": false, \"linkText\": \"Export to plot.ly\"})});</script>"
      ],
      "text/vnd.plotly.v1+html": [
       "<div id=\"593cbfdf-8143-4f6c-adb4-f60a2771f160\" style=\"height: 525px; width: 100%;\" class=\"plotly-graph-div\"></div><script type=\"text/javascript\">require([\"plotly\"], function(Plotly) { window.PLOTLYENV=window.PLOTLYENV || {};window.PLOTLYENV.BASE_URL=\"https://plot.ly\";Plotly.newPlot(\"593cbfdf-8143-4f6c-adb4-f60a2771f160\", [{\"type\": \"scatter\", \"x\": [1.5972222222222223, 2.183333333333333, 0.17777777777777778, 1.3166666666666667, 1.6527777777777777, 0.8777777777777778, 0.5222222222222223, 0.39166666666666666, 0.5638888888888889, 0.39444444444444443, 1.136111111111111, 3.411111111111111, 0.8388888888888889, 2.6277777777777778, 2.202777777777778, 2.2333333333333334, 1.6777777777777778, 0.14166666666666666, 0.7277777777777777, 3.0638888888888887, 2.744444444444444, 1.7138888888888888, 0.625, 1.1333333333333333, 1.0166666666666666, 0.19722222222222222, 1.5416666666666667, 1.9444444444444444, 0.4222222222222222, 0.4361111111111111, 0.9777777777777777, 3.5666666666666664, 2.9972222222222222, 2.7055555555555557, 1.0138888888888888, 3.661111111111111, 1.5916666666666668, 1.2305555555555556, 0.5444444444444444, 0.03888888888888889, 0.08055555555555556, 0.9027777777777778, 3.8305555555555557, 2.763888888888889, 5.8999999999999995, 8.225, 0.1361111111111111, 5.122222222222223, 3.7944444444444443, 1.1666666666666667, 7.083333333333333, 4.944444444444445, 3.9388888888888887, 0.5638888888888889, 1.1472222222222224, 6.997222222222223, 2.0444444444444447, 1.4333333333333333, 0.5666666666666667, 3.2805555555555554, 0.6472222222222223, 1.4222222222222223, 6.011111111111112, 4.638888888888888, 1.511111111111111, 0.13055555555555556, 1.7027777777777777, 4.608333333333333, 3.0722222222222224, 0.7222222222222222, 4.566666666666666, 3.5083333333333333, 5.561111111111111, 2.5500000000000003, 3.9472222222222224, 1.8472222222222223, 6.480555555555555, 7.041666666666667, 0.5916666666666667, 3.8027777777777776, 12.988888888888889, 1.4527777777777777, 2.4, 3.5305555555555554, 4.6611111111111105, 7.947222222222222, 9.686111111111112, 8.452777777777778, 2.3944444444444444, 0.7277777777777777, 1.9833333333333334, 9.230555555555556, 5.033333333333333, 1.2, 1.1222222222222222, 2.6861111111111113, 1.825, 7.875, 6.877777777777777, 1.361111111111111, 5.733333333333333, 3.2416666666666667, 1.7583333333333335, 4.413888888888889, 5.205555555555556], \"y\": [3.5, 3.5, 3.5, 3.5, 3.5, 3.0, 3.5, 3.5, 3.5, 3.5, 4.0, 4.0, 4.0, 3.5, 3.5, 3.5, 3.5, 4.0, 3.5, 3.5, 3.5, 3.5, 3.5, 3.5, 3.5, 3.5, 3.5, 3.5, 3.5, 3.5, 3.5, 3.5, 3.5, 3.5, 3.5, 3.5, 3.5, 3.5, 3.0, 4.0, 4.0, 4.0, 3.5, 4.0, 3.5, 4.0, 4.5, 3.5, 3.5, 3.5, 3.5, 3.5, 3.5, 3.5, 3.5, 3.0, 3.5, 3.0, 4.0, 3.5, 4.0, 3.0, 3.5, 3.5, 3.0, 3.5, 3.0, 3.5, 3.5, 3.5, 3.5, 4.0, 3.5, 3.0, 4.0, 3.5, 4.0, 4.0, 4.0, 4.0, 4.0, 3.5, 4.0, 4.0, 3.5, 4.0, 4.0, 4.0, 4.0, 4.0, 4.0, 3.5, 3.5, 3.5, 3.5, 4.0, 3.5, 4.0, 3.5, 3.5, 3.5, 3.5, 3.5, 3.5, 3.0], \"mode\": \"markers\"}], {\"title\": \"Average Rating vs Years Open\"}, {\"showLink\": false, \"linkText\": \"Export to plot.ly\"})});</script>"
      ]
     },
     "metadata": {},
     "output_type": "display_data"
    }
   ],
   "source": [
    "plotly.offline.iplot(fig, show_link=False)"
   ]
  },
  {
   "cell_type": "markdown",
   "metadata": {
    "slideshow": {
     "slide_type": "skip"
    }
   },
   "source": [
    "#### - This graph shows that some ratings have not improved even after years restaurant was open."
   ]
  },
  {
   "cell_type": "code",
   "execution_count": 19,
   "metadata": {
    "collapsed": true,
    "scrolled": false,
    "slideshow": {
     "slide_type": "skip"
    }
   },
   "outputs": [],
   "source": [
    "#df.plot(kind='scatter',x='Months_Open', y='Reviews_Per_Month')\n",
    "\n",
    "#from plotly.graph_objs import Scatter, Layout, Figure\n",
    "\n",
    "#data = [Scatter(x=df['Years_Open'], y=df['Reviews_Per_Month'], mode = 'markers')]#, text=df['movie_title'])]\n",
    "#layout = Layout(title=\"Reviews Per Month vs Years Open\")\n",
    "\n",
    "#fig = Figure(data=data, layout=layout)\n",
    "\n",
    "#plotly.offline.iplot(fig, show_link=False)"
   ]
  },
  {
   "cell_type": "code",
   "execution_count": 27,
   "metadata": {
    "slideshow": {
     "slide_type": "skip"
    }
   },
   "outputs": [
    {
     "data": {
      "application/vnd.plotly.v1+json": {
       "data": [
        {
         "mode": "markers",
         "name": 3,
         "type": "scatter",
         "x": [
          0.8777777777777778,
          0.5444444444444444,
          6.997222222222223,
          1.4333333333333333,
          1.4222222222222223,
          1.511111111111111,
          1.7027777777777777,
          2.5500000000000003,
          5.205555555555556
         ],
         "y": [
          13.765822784810126,
          20.66326530612245,
          0.9765780071456928,
          4.941860465116279,
          4.62890625,
          0.16544117647058823,
          2.202283849918434,
          3.627450980392157,
          7.860192102454643
         ]
        },
        {
         "mode": "markers",
         "name": 3.5,
         "type": "scatter",
         "x": [
          1.5972222222222223,
          2.183333333333333,
          0.17777777777777778,
          1.3166666666666667,
          1.6527777777777777,
          0.5222222222222223,
          0.39166666666666666,
          0.5638888888888889,
          0.39444444444444443,
          2.6277777777777778,
          2.202777777777778,
          2.2333333333333334,
          1.6777777777777778,
          0.7277777777777777,
          3.0638888888888887,
          2.744444444444444,
          1.7138888888888888,
          0.625,
          1.1333333333333333,
          1.0166666666666666,
          0.19722222222222222,
          1.5416666666666667,
          1.9444444444444444,
          0.4222222222222222,
          0.4361111111111111,
          0.9777777777777777,
          3.5666666666666664,
          2.9972222222222222,
          2.7055555555555557,
          1.0138888888888888,
          3.661111111111111,
          1.5916666666666668,
          1.2305555555555556,
          3.8305555555555557,
          5.8999999999999995,
          5.122222222222223,
          3.7944444444444443,
          1.1666666666666667,
          7.083333333333333,
          4.944444444444445,
          3.9388888888888887,
          0.5638888888888889,
          1.1472222222222224,
          2.0444444444444447,
          3.2805555555555554,
          6.011111111111112,
          4.638888888888888,
          0.13055555555555556,
          4.608333333333333,
          3.0722222222222224,
          0.7222222222222222,
          4.566666666666666,
          5.561111111111111,
          1.8472222222222223,
          1.4527777777777777,
          4.6611111111111105,
          9.230555555555556,
          5.033333333333333,
          1.2,
          1.1222222222222222,
          1.825,
          6.877777777777777,
          1.361111111111111,
          5.733333333333333,
          3.2416666666666667,
          1.7583333333333335,
          4.413888888888889
         ],
         "y": [
          22.486956521739128,
          59.69465648854962,
          37.96875,
          20.253164556962023,
          49.109243697478995,
          56.170212765957444,
          53.61702127659574,
          42.5615763546798,
          7.605633802816901,
          15.95137420718816,
          13.354350567465321,
          12.164179104477611,
          5.562913907284768,
          22.67175572519084,
          15.040797824116048,
          10.050607287449393,
          null,
          null,
          null,
          1.8032786885245902,
          30,
          17.62162162162162,
          6.857142857142858,
          36.31578947368421,
          20.636942675159236,
          6.221590909090909,
          23.901869158878505,
          12.873030583873957,
          7.022587268993839,
          10.10958904109589,
          12.427921092564493,
          8.01047120418848,
          15.575620767494355,
          9.724437998549673,
          5.889830508474576,
          5.808026030368763,
          9.377745241581259,
          4.428571428571429,
          15.16470588235294,
          11.073033707865168,
          5.2256699576868835,
          2.8078817733990147,
          4.14043583535109,
          7.255434782608695,
          9.424216765453005,
          9.926062846580406,
          3.125748502994012,
          21.70212765957447,
          6.763110307414105,
          6.8354430379746836,
          9.230769230769232,
          8.211678832116789,
          11.028971028971029,
          7.308270676691729,
          6.309751434034417,
          8.724672228843863,
          1.3903099608787242,
          7.9635761589403975,
          6.319444444444445,
          4.306930693069307,
          5.616438356164384,
          2.6050080775444266,
          3.795918367346939,
          3.9534883720930236,
          7.686375321336762,
          4.123222748815166,
          6.230333543108873
         ]
        },
        {
         "mode": "markers",
         "name": 4,
         "type": "scatter",
         "x": [
          1.136111111111111,
          3.411111111111111,
          0.8388888888888889,
          0.14166666666666666,
          0.03888888888888889,
          0.08055555555555556,
          0.9027777777777778,
          2.763888888888889,
          8.225,
          0.5666666666666667,
          0.6472222222222223,
          3.5083333333333333,
          3.9472222222222224,
          6.480555555555555,
          7.041666666666667,
          0.5916666666666667,
          3.8027777777777776,
          12.988888888888889,
          2.4,
          3.5305555555555554,
          7.947222222222222,
          9.686111111111112,
          8.452777777777778,
          2.3944444444444444,
          0.7277777777777777,
          1.9833333333333334,
          2.6861111111111113,
          7.875
         ],
         "y": [
          10.048899755501223,
          65.83876221498372,
          15.496688741721854,
          47.64705882352941,
          66.42857142857143,
          5.172413793103448,
          2.6769230769230767,
          12,
          8.308004052684904,
          10.147058823529411,
          0.2575107296137339,
          4.275534441805226,
          6.122448979591836,
          10.068581225889412,
          10.035502958579881,
          9.577464788732394,
          6.5960555149744335,
          34.38836612489307,
          7.5,
          6.467348544453186,
          29.727368053128277,
          19.168339546888443,
          12.421952021031876,
          6.05568445475638,
          4.35114503816794,
          6.5966386554621845,
          6.639089968976215,
          0.19047619047619047
         ]
        },
        {
         "mode": "markers",
         "name": 4.5,
         "type": "scatter",
         "x": [
          0.1361111111111111
         ],
         "y": [
          7.346938775510204
         ]
        }
       ],
       "layout": {
        "xaxis": {
         "title": "Years Open",
         "type": "linear"
        },
        "yaxis": {
         "title": "Reviews Per Month"
        }
       }
      },
      "text/html": [
       "<div id=\"10a8ff00-0c72-47de-887b-1baa2c70745a\" style=\"height: 525px; width: 100%;\" class=\"plotly-graph-div\"></div><script type=\"text/javascript\">require([\"plotly\"], function(Plotly) { window.PLOTLYENV=window.PLOTLYENV || {};window.PLOTLYENV.BASE_URL=\"https://plot.ly\";Plotly.newPlot(\"10a8ff00-0c72-47de-887b-1baa2c70745a\", [{\"type\": \"scatter\", \"x\": [0.8777777777777778, 0.5444444444444444, 6.997222222222223, 1.4333333333333333, 1.4222222222222223, 1.511111111111111, 1.7027777777777777, 2.5500000000000003, 5.205555555555556], \"y\": [13.765822784810126, 20.66326530612245, 0.9765780071456928, 4.941860465116279, 4.62890625, 0.16544117647058823, 2.202283849918434, 3.627450980392157, 7.860192102454643], \"name\": 3, \"mode\": \"markers\"}, {\"type\": \"scatter\", \"x\": [1.5972222222222223, 2.183333333333333, 0.17777777777777778, 1.3166666666666667, 1.6527777777777777, 0.5222222222222223, 0.39166666666666666, 0.5638888888888889, 0.39444444444444443, 2.6277777777777778, 2.202777777777778, 2.2333333333333334, 1.6777777777777778, 0.7277777777777777, 3.0638888888888887, 2.744444444444444, 1.7138888888888888, 0.625, 1.1333333333333333, 1.0166666666666666, 0.19722222222222222, 1.5416666666666667, 1.9444444444444444, 0.4222222222222222, 0.4361111111111111, 0.9777777777777777, 3.5666666666666664, 2.9972222222222222, 2.7055555555555557, 1.0138888888888888, 3.661111111111111, 1.5916666666666668, 1.2305555555555556, 3.8305555555555557, 5.8999999999999995, 5.122222222222223, 3.7944444444444443, 1.1666666666666667, 7.083333333333333, 4.944444444444445, 3.9388888888888887, 0.5638888888888889, 1.1472222222222224, 2.0444444444444447, 3.2805555555555554, 6.011111111111112, 4.638888888888888, 0.13055555555555556, 4.608333333333333, 3.0722222222222224, 0.7222222222222222, 4.566666666666666, 5.561111111111111, 1.8472222222222223, 1.4527777777777777, 4.6611111111111105, 9.230555555555556, 5.033333333333333, 1.2, 1.1222222222222222, 1.825, 6.877777777777777, 1.361111111111111, 5.733333333333333, 3.2416666666666667, 1.7583333333333335, 4.413888888888889], \"y\": [22.486956521739128, 59.69465648854962, 37.96875, 20.253164556962023, 49.109243697478995, 56.170212765957444, 53.61702127659574, 42.5615763546798, 7.605633802816901, 15.95137420718816, 13.354350567465321, 12.164179104477611, 5.562913907284768, 22.67175572519084, 15.040797824116048, 10.050607287449393, null, null, null, 1.8032786885245902, 30.0, 17.62162162162162, 6.857142857142858, 36.31578947368421, 20.636942675159236, 6.221590909090909, 23.901869158878505, 12.873030583873957, 7.022587268993839, 10.10958904109589, 12.427921092564493, 8.01047120418848, 15.575620767494355, 9.724437998549673, 5.889830508474576, 5.808026030368763, 9.377745241581259, 4.428571428571429, 15.16470588235294, 11.073033707865168, 5.2256699576868835, 2.8078817733990147, 4.14043583535109, 7.255434782608695, 9.424216765453005, 9.926062846580406, 3.125748502994012, 21.70212765957447, 6.763110307414105, 6.8354430379746836, 9.230769230769232, 8.211678832116789, 11.028971028971029, 7.308270676691729, 6.309751434034417, 8.724672228843863, 1.3903099608787242, 7.9635761589403975, 6.319444444444445, 4.306930693069307, 5.616438356164384, 2.6050080775444266, 3.795918367346939, 3.9534883720930236, 7.686375321336762, 4.123222748815166, 6.230333543108873], \"name\": 3.5, \"mode\": \"markers\"}, {\"type\": \"scatter\", \"x\": [1.136111111111111, 3.411111111111111, 0.8388888888888889, 0.14166666666666666, 0.03888888888888889, 0.08055555555555556, 0.9027777777777778, 2.763888888888889, 8.225, 0.5666666666666667, 0.6472222222222223, 3.5083333333333333, 3.9472222222222224, 6.480555555555555, 7.041666666666667, 0.5916666666666667, 3.8027777777777776, 12.988888888888889, 2.4, 3.5305555555555554, 7.947222222222222, 9.686111111111112, 8.452777777777778, 2.3944444444444444, 0.7277777777777777, 1.9833333333333334, 2.6861111111111113, 7.875], \"y\": [10.048899755501223, 65.83876221498372, 15.496688741721854, 47.64705882352941, 66.42857142857143, 5.172413793103448, 2.6769230769230767, 12.0, 8.308004052684904, 10.147058823529411, 0.2575107296137339, 4.275534441805226, 6.122448979591836, 10.068581225889412, 10.035502958579881, 9.577464788732394, 6.5960555149744335, 34.38836612489307, 7.5, 6.467348544453186, 29.727368053128277, 19.168339546888443, 12.421952021031876, 6.05568445475638, 4.35114503816794, 6.5966386554621845, 6.639089968976215, 0.19047619047619047], \"name\": 4, \"mode\": \"markers\"}, {\"type\": \"scatter\", \"x\": [0.1361111111111111], \"y\": [7.346938775510204], \"name\": 4.5, \"mode\": \"markers\"}], {\"xaxis\": {\"title\": \"Years Open\", \"type\": \"linear\"}, \"yaxis\": {\"title\": \"Reviews Per Month\"}}, {\"showLink\": false, \"linkText\": \"Export to plot.ly\"})});</script>"
      ],
      "text/vnd.plotly.v1+html": [
       "<div id=\"10a8ff00-0c72-47de-887b-1baa2c70745a\" style=\"height: 525px; width: 100%;\" class=\"plotly-graph-div\"></div><script type=\"text/javascript\">require([\"plotly\"], function(Plotly) { window.PLOTLYENV=window.PLOTLYENV || {};window.PLOTLYENV.BASE_URL=\"https://plot.ly\";Plotly.newPlot(\"10a8ff00-0c72-47de-887b-1baa2c70745a\", [{\"type\": \"scatter\", \"x\": [0.8777777777777778, 0.5444444444444444, 6.997222222222223, 1.4333333333333333, 1.4222222222222223, 1.511111111111111, 1.7027777777777777, 2.5500000000000003, 5.205555555555556], \"y\": [13.765822784810126, 20.66326530612245, 0.9765780071456928, 4.941860465116279, 4.62890625, 0.16544117647058823, 2.202283849918434, 3.627450980392157, 7.860192102454643], \"name\": 3, \"mode\": \"markers\"}, {\"type\": \"scatter\", \"x\": [1.5972222222222223, 2.183333333333333, 0.17777777777777778, 1.3166666666666667, 1.6527777777777777, 0.5222222222222223, 0.39166666666666666, 0.5638888888888889, 0.39444444444444443, 2.6277777777777778, 2.202777777777778, 2.2333333333333334, 1.6777777777777778, 0.7277777777777777, 3.0638888888888887, 2.744444444444444, 1.7138888888888888, 0.625, 1.1333333333333333, 1.0166666666666666, 0.19722222222222222, 1.5416666666666667, 1.9444444444444444, 0.4222222222222222, 0.4361111111111111, 0.9777777777777777, 3.5666666666666664, 2.9972222222222222, 2.7055555555555557, 1.0138888888888888, 3.661111111111111, 1.5916666666666668, 1.2305555555555556, 3.8305555555555557, 5.8999999999999995, 5.122222222222223, 3.7944444444444443, 1.1666666666666667, 7.083333333333333, 4.944444444444445, 3.9388888888888887, 0.5638888888888889, 1.1472222222222224, 2.0444444444444447, 3.2805555555555554, 6.011111111111112, 4.638888888888888, 0.13055555555555556, 4.608333333333333, 3.0722222222222224, 0.7222222222222222, 4.566666666666666, 5.561111111111111, 1.8472222222222223, 1.4527777777777777, 4.6611111111111105, 9.230555555555556, 5.033333333333333, 1.2, 1.1222222222222222, 1.825, 6.877777777777777, 1.361111111111111, 5.733333333333333, 3.2416666666666667, 1.7583333333333335, 4.413888888888889], \"y\": [22.486956521739128, 59.69465648854962, 37.96875, 20.253164556962023, 49.109243697478995, 56.170212765957444, 53.61702127659574, 42.5615763546798, 7.605633802816901, 15.95137420718816, 13.354350567465321, 12.164179104477611, 5.562913907284768, 22.67175572519084, 15.040797824116048, 10.050607287449393, null, null, null, 1.8032786885245902, 30.0, 17.62162162162162, 6.857142857142858, 36.31578947368421, 20.636942675159236, 6.221590909090909, 23.901869158878505, 12.873030583873957, 7.022587268993839, 10.10958904109589, 12.427921092564493, 8.01047120418848, 15.575620767494355, 9.724437998549673, 5.889830508474576, 5.808026030368763, 9.377745241581259, 4.428571428571429, 15.16470588235294, 11.073033707865168, 5.2256699576868835, 2.8078817733990147, 4.14043583535109, 7.255434782608695, 9.424216765453005, 9.926062846580406, 3.125748502994012, 21.70212765957447, 6.763110307414105, 6.8354430379746836, 9.230769230769232, 8.211678832116789, 11.028971028971029, 7.308270676691729, 6.309751434034417, 8.724672228843863, 1.3903099608787242, 7.9635761589403975, 6.319444444444445, 4.306930693069307, 5.616438356164384, 2.6050080775444266, 3.795918367346939, 3.9534883720930236, 7.686375321336762, 4.123222748815166, 6.230333543108873], \"name\": 3.5, \"mode\": \"markers\"}, {\"type\": \"scatter\", \"x\": [1.136111111111111, 3.411111111111111, 0.8388888888888889, 0.14166666666666666, 0.03888888888888889, 0.08055555555555556, 0.9027777777777778, 2.763888888888889, 8.225, 0.5666666666666667, 0.6472222222222223, 3.5083333333333333, 3.9472222222222224, 6.480555555555555, 7.041666666666667, 0.5916666666666667, 3.8027777777777776, 12.988888888888889, 2.4, 3.5305555555555554, 7.947222222222222, 9.686111111111112, 8.452777777777778, 2.3944444444444444, 0.7277777777777777, 1.9833333333333334, 2.6861111111111113, 7.875], \"y\": [10.048899755501223, 65.83876221498372, 15.496688741721854, 47.64705882352941, 66.42857142857143, 5.172413793103448, 2.6769230769230767, 12.0, 8.308004052684904, 10.147058823529411, 0.2575107296137339, 4.275534441805226, 6.122448979591836, 10.068581225889412, 10.035502958579881, 9.577464788732394, 6.5960555149744335, 34.38836612489307, 7.5, 6.467348544453186, 29.727368053128277, 19.168339546888443, 12.421952021031876, 6.05568445475638, 4.35114503816794, 6.5966386554621845, 6.639089968976215, 0.19047619047619047], \"name\": 4, \"mode\": \"markers\"}, {\"type\": \"scatter\", \"x\": [0.1361111111111111], \"y\": [7.346938775510204], \"name\": 4.5, \"mode\": \"markers\"}], {\"xaxis\": {\"title\": \"Years Open\", \"type\": \"linear\"}, \"yaxis\": {\"title\": \"Reviews Per Month\"}}, {\"showLink\": false, \"linkText\": \"Export to plot.ly\"})});</script>"
      ]
     },
     "metadata": {},
     "output_type": "display_data"
    }
   ],
   "source": [
    "import plotly.plotly as py\n",
    "import pandas as pd\n",
    "\n",
    "fig = Figure({\n",
    "    'data': [\n",
    "        {\n",
    "            'x': df[df['Rating_Mean']==rating]['Years_Open'],\n",
    "            'y': df[df['Rating_Mean']==rating]['Reviews_Per_Month'],\n",
    "            'name': rating, 'mode': 'markers',\n",
    "        } for rating in [3, 3.5, 4, 4.5]\n",
    "    ],\n",
    "    'layout': {\n",
    "        'xaxis': {'title': 'Years Open', 'type': 'linear'},\n",
    "        'yaxis': {'title': \"Reviews Per Month\"}\n",
    "    }\n",
    "})\n",
    "\n",
    "plotly.offline.iplot(fig, show_link=False)"
   ]
  },
  {
   "cell_type": "markdown",
   "metadata": {
    "slideshow": {
     "slide_type": "skip"
    }
   },
   "source": [
    "#### - This graph shows that the rate of reviews per month are high for some points early on.  Most restaurants have less than 20-30 reviews per month. "
   ]
  },
  {
   "cell_type": "code",
   "execution_count": 21,
   "metadata": {
    "slideshow": {
     "slide_type": "skip"
    }
   },
   "outputs": [
    {
     "data": {
      "text/plain": [
       "array([3.5, 3. , 4. , 4.5])"
      ]
     },
     "execution_count": 21,
     "metadata": {},
     "output_type": "execute_result"
    }
   ],
   "source": [
    "df['Rating_Mean'].unique()"
   ]
  },
  {
   "cell_type": "code",
   "execution_count": 22,
   "metadata": {
    "collapsed": true,
    "slideshow": {
     "slide_type": "skip"
    }
   },
   "outputs": [],
   "source": [
    "df['log_Reviews'] = df['Reviews'].apply(lambda x: np.log(x))"
   ]
  },
  {
   "cell_type": "code",
   "execution_count": null,
   "metadata": {
    "collapsed": true,
    "slideshow": {
     "slide_type": "skip"
    }
   },
   "outputs": [],
   "source": [
    "import plotly.plotly as py\n",
    "import pandas as pd\n",
    "\n",
    "fig = Figure({\n",
    "    'data': [\n",
    "        {\n",
    "            'x': df[df['Rating_Mean']==rating]['Years_Open'],\n",
    "            'y': df[df['Rating_Mean']==rating]['log_Reviews'],\n",
    "            'name': rating, 'mode': 'markers',\n",
    "        } for rating in [3, 3.5, 4, 4.5]\n",
    "    ],\n",
    "    'layout': {\n",
    "        'xaxis': {'title': 'Years Open', 'type': 'linear'},\n",
    "        'yaxis': {'title': \"log Number of Reviews\"}\n",
    "    }\n",
    "})\n"
   ]
  },
  {
   "cell_type": "code",
   "execution_count": 33,
   "metadata": {
    "slideshow": {
     "slide_type": "slide"
    }
   },
   "outputs": [
    {
     "data": {
      "application/vnd.plotly.v1+json": {
       "data": [
        {
         "mode": "markers",
         "name": 3,
         "type": "scatter",
         "x": [
          0.8777777777777778,
          0.5444444444444444,
          6.997222222222223,
          1.4333333333333333,
          1.4222222222222223,
          1.511111111111111,
          1.7027777777777777,
          2.5500000000000003,
          5.205555555555556
         ],
         "y": [
          4.976733742420574,
          4.90527477843843,
          4.406719247264253,
          4.442651256490317,
          4.3694478524670215,
          1.0986122886681098,
          3.8066624897703196,
          4.709530201312334,
          6.19644412779452
         ]
        },
        {
         "mode": "markers",
         "name": 3.5,
         "type": "scatter",
         "x": [
          1.5972222222222223,
          2.183333333333333,
          0.17777777777777778,
          1.3166666666666667,
          1.6527777777777777,
          0.5222222222222223,
          0.39166666666666666,
          0.5638888888888889,
          0.39444444444444443,
          2.6277777777777778,
          2.202777777777778,
          2.2333333333333334,
          1.6777777777777778,
          0.7277777777777777,
          3.0638888888888887,
          2.744444444444444,
          1.7138888888888888,
          0.625,
          1.1333333333333333,
          1.0166666666666666,
          0.19722222222222222,
          1.5416666666666667,
          1.9444444444444444,
          0.4222222222222222,
          0.4361111111111111,
          0.9777777777777777,
          3.5666666666666664,
          2.9972222222222222,
          2.7055555555555557,
          1.0138888888888888,
          3.661111111111111,
          1.5916666666666668,
          1.2305555555555556,
          3.8305555555555557,
          5.8999999999999995,
          5.122222222222223,
          3.7944444444444443,
          1.1666666666666667,
          7.083333333333333,
          4.944444444444445,
          3.9388888888888887,
          0.5638888888888889,
          1.1472222222222224,
          2.0444444444444447,
          3.2805555555555554,
          6.011111111111112,
          4.638888888888888,
          0.13055555555555556,
          4.608333333333333,
          3.0722222222222224,
          0.7222222222222222,
          4.566666666666666,
          5.561111111111111,
          1.8472222222222223,
          1.4527777777777777,
          4.6611111111111105,
          9.230555555555556,
          5.033333333333333,
          1.2,
          1.1222222222222222,
          1.825,
          6.877777777777777,
          1.361111111111111,
          5.733333333333333,
          3.2416666666666667,
          1.7583333333333335,
          4.413888888888889
         ],
         "y": [
          6.066108090103747,
          7.355001921105257,
          4.394449154672439,
          5.768320995793772,
          6.881411303642535,
          5.863631175598097,
          5.529429087511423,
          5.662960480135946,
          3.58351893845611,
          6.220590170099739,
          5.8664680569332965,
          5.786897381366708,
          4.718498871295094,
          5.288267030694535,
          6.315358001522335,
          5.802118375377063,
          6.018593214496234,
          3.912023005428146,
          5.641907070938114,
          3.091042453358316,
          4.2626798770413155,
          5.786897381366708,
          5.075173815233827,
          5.214935757608986,
          4.68213122712422,
          4.290459441148391,
          6.930494765951626,
          6.137727054086234,
          5.429345628954441,
          4.812184355372417,
          6.302618975744905,
          5.030437921392435,
          5.438079308923196,
          6.102558594613569,
          6.0330862217988015,
          5.877735781779639,
          6.056784013228625,
          4.127134385045092,
          7.161622002939187,
          6.48768401848461,
          5.5093883366279774,
          2.9444389791664403,
          4.04305126783455,
          5.181783550292085,
          5.916202062607435,
          6.573680166960646,
          5.159055299214529,
          3.5263605246161616,
          5.924255797414532,
          5.529429087511423,
          4.382026634673881,
          6.1092475827643655,
          6.601230118728877,
          5.087596335232384,
          4.700480365792417,
          6.1903154058531475,
          5.0369526024136295,
          6.175867270105761,
          4.51085950651685,
          4.060443010546419,
          4.812184355372417,
          5.3706380281276624,
          4.127134385045092,
          5.605802066295998,
          5.700443573390687,
          4.465908118654584,
          5.799092654460526
         ]
        },
        {
         "mode": "markers",
         "name": 4,
         "type": "scatter",
         "x": [
          1.136111111111111,
          3.411111111111111,
          0.8388888888888889,
          0.14166666666666666,
          0.03888888888888889,
          0.08055555555555556,
          0.9027777777777778,
          2.763888888888889,
          8.225,
          0.5666666666666667,
          0.6472222222222223,
          3.5083333333333333,
          3.9472222222222224,
          6.480555555555555,
          7.041666666666667,
          0.5916666666666667,
          3.8027777777777776,
          12.988888888888889,
          2.4,
          3.5305555555555554,
          7.947222222222222,
          9.686111111111112,
          8.452777777777778,
          2.3944444444444444,
          0.7277777777777777,
          1.9833333333333334,
          2.6861111111111113,
          7.875
         ],
         "y": [
          4.919980925828125,
          7.899153483343097,
          5.049856007249537,
          4.394449154672439,
          3.4339872044851463,
          1.6094379124341003,
          3.367295829986474,
          5.986452005284438,
          6.709304340258298,
          4.23410650459726,
          0.6931471805599453,
          5.19295685089021,
          5.66988092298052,
          6.663132695990803,
          6.742880635791903,
          4.219507705176107,
          5.707110264748875,
          8.586719254064848,
          5.375278407684165,
          5.6131281063880705,
          7.949797216161852,
          7.708859601047175,
          7.138866999945524,
          5.159055299214529,
          3.6375861597263857,
          5.056245805348308,
          5.365976015021851,
          2.8903717578961645
         ]
        },
        {
         "mode": "markers",
         "name": 4.5,
         "type": "scatter",
         "x": [
          0.1361111111111111
         ],
         "y": [
          2.4849066497880004
         ]
        }
       ],
       "layout": {
        "xaxis": {
         "title": "Years Open",
         "type": "linear"
        },
        "yaxis": {
         "title": "log Number of Reviews"
        }
       }
      },
      "text/html": [
       "<div id=\"54b57d8e-20d0-490d-bb34-bf17706c4edb\" style=\"height: 525px; width: 100%;\" class=\"plotly-graph-div\"></div><script type=\"text/javascript\">require([\"plotly\"], function(Plotly) { window.PLOTLYENV=window.PLOTLYENV || {};window.PLOTLYENV.BASE_URL=\"https://plot.ly\";Plotly.newPlot(\"54b57d8e-20d0-490d-bb34-bf17706c4edb\", [{\"type\": \"scatter\", \"x\": [0.8777777777777778, 0.5444444444444444, 6.997222222222223, 1.4333333333333333, 1.4222222222222223, 1.511111111111111, 1.7027777777777777, 2.5500000000000003, 5.205555555555556], \"y\": [4.976733742420574, 4.90527477843843, 4.406719247264253, 4.442651256490317, 4.3694478524670215, 1.0986122886681098, 3.8066624897703196, 4.709530201312334, 6.19644412779452], \"name\": 3, \"mode\": \"markers\"}, {\"type\": \"scatter\", \"x\": [1.5972222222222223, 2.183333333333333, 0.17777777777777778, 1.3166666666666667, 1.6527777777777777, 0.5222222222222223, 0.39166666666666666, 0.5638888888888889, 0.39444444444444443, 2.6277777777777778, 2.202777777777778, 2.2333333333333334, 1.6777777777777778, 0.7277777777777777, 3.0638888888888887, 2.744444444444444, 1.7138888888888888, 0.625, 1.1333333333333333, 1.0166666666666666, 0.19722222222222222, 1.5416666666666667, 1.9444444444444444, 0.4222222222222222, 0.4361111111111111, 0.9777777777777777, 3.5666666666666664, 2.9972222222222222, 2.7055555555555557, 1.0138888888888888, 3.661111111111111, 1.5916666666666668, 1.2305555555555556, 3.8305555555555557, 5.8999999999999995, 5.122222222222223, 3.7944444444444443, 1.1666666666666667, 7.083333333333333, 4.944444444444445, 3.9388888888888887, 0.5638888888888889, 1.1472222222222224, 2.0444444444444447, 3.2805555555555554, 6.011111111111112, 4.638888888888888, 0.13055555555555556, 4.608333333333333, 3.0722222222222224, 0.7222222222222222, 4.566666666666666, 5.561111111111111, 1.8472222222222223, 1.4527777777777777, 4.6611111111111105, 9.230555555555556, 5.033333333333333, 1.2, 1.1222222222222222, 1.825, 6.877777777777777, 1.361111111111111, 5.733333333333333, 3.2416666666666667, 1.7583333333333335, 4.413888888888889], \"y\": [6.066108090103747, 7.355001921105257, 4.394449154672439, 5.768320995793772, 6.881411303642535, 5.863631175598097, 5.529429087511423, 5.662960480135946, 3.58351893845611, 6.220590170099739, 5.8664680569332965, 5.786897381366708, 4.718498871295094, 5.288267030694535, 6.315358001522335, 5.802118375377063, 6.018593214496234, 3.912023005428146, 5.641907070938114, 3.091042453358316, 4.2626798770413155, 5.786897381366708, 5.075173815233827, 5.214935757608986, 4.68213122712422, 4.290459441148391, 6.930494765951626, 6.137727054086234, 5.429345628954441, 4.812184355372417, 6.302618975744905, 5.030437921392435, 5.438079308923196, 6.102558594613569, 6.0330862217988015, 5.877735781779639, 6.056784013228625, 4.127134385045092, 7.161622002939187, 6.48768401848461, 5.5093883366279774, 2.9444389791664403, 4.04305126783455, 5.181783550292085, 5.916202062607435, 6.573680166960646, 5.159055299214529, 3.5263605246161616, 5.924255797414532, 5.529429087511423, 4.382026634673881, 6.1092475827643655, 6.601230118728877, 5.087596335232384, 4.700480365792417, 6.1903154058531475, 5.0369526024136295, 6.175867270105761, 4.51085950651685, 4.060443010546419, 4.812184355372417, 5.3706380281276624, 4.127134385045092, 5.605802066295998, 5.700443573390687, 4.465908118654584, 5.799092654460526], \"name\": 3.5, \"mode\": \"markers\"}, {\"type\": \"scatter\", \"x\": [1.136111111111111, 3.411111111111111, 0.8388888888888889, 0.14166666666666666, 0.03888888888888889, 0.08055555555555556, 0.9027777777777778, 2.763888888888889, 8.225, 0.5666666666666667, 0.6472222222222223, 3.5083333333333333, 3.9472222222222224, 6.480555555555555, 7.041666666666667, 0.5916666666666667, 3.8027777777777776, 12.988888888888889, 2.4, 3.5305555555555554, 7.947222222222222, 9.686111111111112, 8.452777777777778, 2.3944444444444444, 0.7277777777777777, 1.9833333333333334, 2.6861111111111113, 7.875], \"y\": [4.919980925828125, 7.899153483343097, 5.049856007249537, 4.394449154672439, 3.4339872044851463, 1.6094379124341003, 3.367295829986474, 5.986452005284438, 6.709304340258298, 4.23410650459726, 0.6931471805599453, 5.19295685089021, 5.66988092298052, 6.663132695990803, 6.742880635791903, 4.219507705176107, 5.707110264748875, 8.586719254064848, 5.375278407684165, 5.6131281063880705, 7.949797216161852, 7.708859601047175, 7.138866999945524, 5.159055299214529, 3.6375861597263857, 5.056245805348308, 5.365976015021851, 2.8903717578961645], \"name\": 4, \"mode\": \"markers\"}, {\"type\": \"scatter\", \"x\": [0.1361111111111111], \"y\": [2.4849066497880004], \"name\": 4.5, \"mode\": \"markers\"}], {\"xaxis\": {\"title\": \"Years Open\", \"type\": \"linear\"}, \"yaxis\": {\"title\": \"log Number of Reviews\"}}, {\"showLink\": false, \"linkText\": \"Export to plot.ly\"})});</script>"
      ],
      "text/vnd.plotly.v1+html": [
       "<div id=\"54b57d8e-20d0-490d-bb34-bf17706c4edb\" style=\"height: 525px; width: 100%;\" class=\"plotly-graph-div\"></div><script type=\"text/javascript\">require([\"plotly\"], function(Plotly) { window.PLOTLYENV=window.PLOTLYENV || {};window.PLOTLYENV.BASE_URL=\"https://plot.ly\";Plotly.newPlot(\"54b57d8e-20d0-490d-bb34-bf17706c4edb\", [{\"type\": \"scatter\", \"x\": [0.8777777777777778, 0.5444444444444444, 6.997222222222223, 1.4333333333333333, 1.4222222222222223, 1.511111111111111, 1.7027777777777777, 2.5500000000000003, 5.205555555555556], \"y\": [4.976733742420574, 4.90527477843843, 4.406719247264253, 4.442651256490317, 4.3694478524670215, 1.0986122886681098, 3.8066624897703196, 4.709530201312334, 6.19644412779452], \"name\": 3, \"mode\": \"markers\"}, {\"type\": \"scatter\", \"x\": [1.5972222222222223, 2.183333333333333, 0.17777777777777778, 1.3166666666666667, 1.6527777777777777, 0.5222222222222223, 0.39166666666666666, 0.5638888888888889, 0.39444444444444443, 2.6277777777777778, 2.202777777777778, 2.2333333333333334, 1.6777777777777778, 0.7277777777777777, 3.0638888888888887, 2.744444444444444, 1.7138888888888888, 0.625, 1.1333333333333333, 1.0166666666666666, 0.19722222222222222, 1.5416666666666667, 1.9444444444444444, 0.4222222222222222, 0.4361111111111111, 0.9777777777777777, 3.5666666666666664, 2.9972222222222222, 2.7055555555555557, 1.0138888888888888, 3.661111111111111, 1.5916666666666668, 1.2305555555555556, 3.8305555555555557, 5.8999999999999995, 5.122222222222223, 3.7944444444444443, 1.1666666666666667, 7.083333333333333, 4.944444444444445, 3.9388888888888887, 0.5638888888888889, 1.1472222222222224, 2.0444444444444447, 3.2805555555555554, 6.011111111111112, 4.638888888888888, 0.13055555555555556, 4.608333333333333, 3.0722222222222224, 0.7222222222222222, 4.566666666666666, 5.561111111111111, 1.8472222222222223, 1.4527777777777777, 4.6611111111111105, 9.230555555555556, 5.033333333333333, 1.2, 1.1222222222222222, 1.825, 6.877777777777777, 1.361111111111111, 5.733333333333333, 3.2416666666666667, 1.7583333333333335, 4.413888888888889], \"y\": [6.066108090103747, 7.355001921105257, 4.394449154672439, 5.768320995793772, 6.881411303642535, 5.863631175598097, 5.529429087511423, 5.662960480135946, 3.58351893845611, 6.220590170099739, 5.8664680569332965, 5.786897381366708, 4.718498871295094, 5.288267030694535, 6.315358001522335, 5.802118375377063, 6.018593214496234, 3.912023005428146, 5.641907070938114, 3.091042453358316, 4.2626798770413155, 5.786897381366708, 5.075173815233827, 5.214935757608986, 4.68213122712422, 4.290459441148391, 6.930494765951626, 6.137727054086234, 5.429345628954441, 4.812184355372417, 6.302618975744905, 5.030437921392435, 5.438079308923196, 6.102558594613569, 6.0330862217988015, 5.877735781779639, 6.056784013228625, 4.127134385045092, 7.161622002939187, 6.48768401848461, 5.5093883366279774, 2.9444389791664403, 4.04305126783455, 5.181783550292085, 5.916202062607435, 6.573680166960646, 5.159055299214529, 3.5263605246161616, 5.924255797414532, 5.529429087511423, 4.382026634673881, 6.1092475827643655, 6.601230118728877, 5.087596335232384, 4.700480365792417, 6.1903154058531475, 5.0369526024136295, 6.175867270105761, 4.51085950651685, 4.060443010546419, 4.812184355372417, 5.3706380281276624, 4.127134385045092, 5.605802066295998, 5.700443573390687, 4.465908118654584, 5.799092654460526], \"name\": 3.5, \"mode\": \"markers\"}, {\"type\": \"scatter\", \"x\": [1.136111111111111, 3.411111111111111, 0.8388888888888889, 0.14166666666666666, 0.03888888888888889, 0.08055555555555556, 0.9027777777777778, 2.763888888888889, 8.225, 0.5666666666666667, 0.6472222222222223, 3.5083333333333333, 3.9472222222222224, 6.480555555555555, 7.041666666666667, 0.5916666666666667, 3.8027777777777776, 12.988888888888889, 2.4, 3.5305555555555554, 7.947222222222222, 9.686111111111112, 8.452777777777778, 2.3944444444444444, 0.7277777777777777, 1.9833333333333334, 2.6861111111111113, 7.875], \"y\": [4.919980925828125, 7.899153483343097, 5.049856007249537, 4.394449154672439, 3.4339872044851463, 1.6094379124341003, 3.367295829986474, 5.986452005284438, 6.709304340258298, 4.23410650459726, 0.6931471805599453, 5.19295685089021, 5.66988092298052, 6.663132695990803, 6.742880635791903, 4.219507705176107, 5.707110264748875, 8.586719254064848, 5.375278407684165, 5.6131281063880705, 7.949797216161852, 7.708859601047175, 7.138866999945524, 5.159055299214529, 3.6375861597263857, 5.056245805348308, 5.365976015021851, 2.8903717578961645], \"name\": 4, \"mode\": \"markers\"}, {\"type\": \"scatter\", \"x\": [0.1361111111111111], \"y\": [2.4849066497880004], \"name\": 4.5, \"mode\": \"markers\"}], {\"xaxis\": {\"title\": \"Years Open\", \"type\": \"linear\"}, \"yaxis\": {\"title\": \"log Number of Reviews\"}}, {\"showLink\": false, \"linkText\": \"Export to plot.ly\"})});</script>"
      ]
     },
     "metadata": {},
     "output_type": "display_data"
    }
   ],
   "source": [
    "plotly.offline.iplot(fig, show_link=False)"
   ]
  },
  {
   "cell_type": "code",
   "execution_count": null,
   "metadata": {
    "collapsed": true
   },
   "outputs": [],
   "source": []
  }
 ],
 "metadata": {
  "celltoolbar": "Slideshow",
  "kernelspec": {
   "display_name": "Python 3",
   "language": "python",
   "name": "python3"
  },
  "language_info": {
   "codemirror_mode": {
    "name": "ipython",
    "version": 3
   },
   "file_extension": ".py",
   "mimetype": "text/x-python",
   "name": "python",
   "nbconvert_exporter": "python",
   "pygments_lexer": "ipython3",
   "version": "3.6.2"
  }
 },
 "nbformat": 4,
 "nbformat_minor": 2
}
