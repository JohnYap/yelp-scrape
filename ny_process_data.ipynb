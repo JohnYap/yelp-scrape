{
 "cells": [
  {
   "cell_type": "markdown",
   "metadata": {},
   "source": [
    "### In this notebook, process data variables for New York outlets for Shake Shack \n",
    "\n",
    "### This notebook will create the dataset, New_York"
   ]
  },
  {
   "cell_type": "code",
   "execution_count": 1,
   "metadata": {},
   "outputs": [
    {
     "data": {
      "text/html": [
       "<script>requirejs.config({paths: { 'plotly': ['https://cdn.plot.ly/plotly-latest.min']},});if(!window.Plotly) {{require(['plotly'],function(plotly) {window.Plotly=plotly;});}}</script>"
      ],
      "text/vnd.plotly.v1+html": [
       "<script>requirejs.config({paths: { 'plotly': ['https://cdn.plot.ly/plotly-latest.min']},});if(!window.Plotly) {{require(['plotly'],function(plotly) {window.Plotly=plotly;});}}</script>"
      ]
     },
     "metadata": {},
     "output_type": "display_data"
    }
   ],
   "source": [
    "import numpy as np\n",
    "import pandas as pd\n",
    "import plotly\n",
    "\n",
    "plotly.offline.init_notebook_mode(connected=True)"
   ]
  },
  {
   "cell_type": "markdown",
   "metadata": {},
   "source": [
    "# I. Collect Data Frames"
   ]
  },
  {
   "cell_type": "markdown",
   "metadata": {},
   "source": [
    "### retrieve Shake Shack data and create two new columns"
   ]
  },
  {
   "cell_type": "code",
   "execution_count": 2,
   "metadata": {
    "collapsed": true
   },
   "outputs": [],
   "source": [
    "#Retrieve Shack Shack Data\n",
    "df_ss_msp = pd.read_csv('./data/ss_msp.csv', header = None)\n",
    "df_ss_upper_west_side = pd.read_csv('./data/ss_upper_west_side.csv', header = None)\n",
    "df_ss_queens = pd.read_csv('./data/ss_queens.csv', header = None)\n",
    "df_ss_upper_east_side = pd.read_csv('./data/ss_upper_east_side.csv', header = None)\n",
    "df_ss_miami_beach = pd.read_csv('./data/ss_miami_beach.csv', header = None)\n",
    "df_ss_hells_kitchen = pd.read_csv('./data/ss_hells_kitchen.csv', header = None)\n",
    "df_ss_saratoga_springs = pd.read_csv('./data/ss_saratoga_springs.csv', header = None)\n",
    "df_ss_dupont_circle = pd.read_csv('./data/ss_dupont_circle.csv', header = None)\n",
    "df_ss_battery_park = pd.read_csv('./data/ss_battery_park.csv', header = None)\n",
    "df_ss_navy_yard = pd.read_csv('./data/ss_navy_yard.csv', header = None)"
   ]
  },
  {
   "cell_type": "code",
   "execution_count": 3,
   "metadata": {
    "collapsed": true
   },
   "outputs": [],
   "source": [
    "df_ss_msp['outlet'] = ['Madison SP'] * df_ss_msp.shape[0]\n",
    "df_ss_upper_west_side['outlet'] = ['Upper WS'] * df_ss_upper_west_side.shape[0]\n",
    "df_ss_queens['outlet'] = ['Queens'] * df_ss_queens.shape[0]\n",
    "df_ss_upper_east_side['outlet'] = ['Upper ES'] * df_ss_upper_east_side.shape[0]\n",
    "df_ss_miami_beach['outlet'] = ['Miami Beach'] * df_ss_miami_beach.shape[0]\n",
    "df_ss_hells_kitchen['outlet'] = ['Hells Kitchen'] * df_ss_hells_kitchen.shape[0]\n",
    "df_ss_saratoga_springs['outlet'] = ['Saratoga S'] * df_ss_saratoga_springs.shape[0]\n",
    "df_ss_dupont_circle['outlet'] = ['Dupont Circle'] * df_ss_dupont_circle.shape[0]\n",
    "df_ss_battery_park['outlet'] = ['Battery Park'] * df_ss_battery_park.shape[0]\n",
    "df_ss_navy_yard['outlet'] = ['Navy Yard'] * df_ss_navy_yard.shape[0]"
   ]
  },
  {
   "cell_type": "markdown",
   "metadata": {},
   "source": [
    "### collect all data frames into a list and create one data frame"
   ]
  },
  {
   "cell_type": "code",
   "execution_count": 4,
   "metadata": {
    "collapsed": true
   },
   "outputs": [],
   "source": [
    "frames = [df_ss_msp, \n",
    "          df_ss_upper_west_side, \n",
    "          df_ss_queens, \n",
    "          df_ss_upper_east_side, \n",
    "          df_ss_miami_beach, \n",
    "          df_ss_hells_kitchen, \n",
    "          df_ss_saratoga_springs, \n",
    "          df_ss_dupont_circle,\n",
    "          df_ss_battery_park, \n",
    "          df_ss_navy_yard]\n",
    "df_orig = pd.concat(frames)"
   ]
  },
  {
   "cell_type": "code",
   "execution_count": 5,
   "metadata": {
    "collapsed": true
   },
   "outputs": [],
   "source": [
    "df_orig.columns = ['name', 'location', 'friends', 'reviews', 'photos', 'elite', 'review_date', 'rating', \n",
    "              'check_in', 'content', 'useful', 'date_reply', 'outlet']"
   ]
  },
  {
   "cell_type": "markdown",
   "metadata": {},
   "source": [
    "### select relevant columns for now"
   ]
  },
  {
   "cell_type": "code",
   "execution_count": 6,
   "metadata": {
    "collapsed": true
   },
   "outputs": [],
   "source": [
    "df = df_orig[['name', 'location', 'review_date', 'rating', 'content', 'date_reply', 'outlet']].copy()"
   ]
  },
  {
   "cell_type": "code",
   "execution_count": 7,
   "metadata": {},
   "outputs": [
    {
     "data": {
      "text/html": [
       "<div>\n",
       "<style>\n",
       "    .dataframe thead tr:only-child th {\n",
       "        text-align: right;\n",
       "    }\n",
       "\n",
       "    .dataframe thead th {\n",
       "        text-align: left;\n",
       "    }\n",
       "\n",
       "    .dataframe tbody tr th {\n",
       "        vertical-align: top;\n",
       "    }\n",
       "</style>\n",
       "<table border=\"1\" class=\"dataframe\">\n",
       "  <thead>\n",
       "    <tr style=\"text-align: right;\">\n",
       "      <th></th>\n",
       "      <th>name</th>\n",
       "      <th>location</th>\n",
       "      <th>review_date</th>\n",
       "      <th>rating</th>\n",
       "      <th>content</th>\n",
       "      <th>date_reply</th>\n",
       "      <th>outlet</th>\n",
       "    </tr>\n",
       "  </thead>\n",
       "  <tbody>\n",
       "    <tr>\n",
       "      <th>0</th>\n",
       "      <td>Dorota M.</td>\n",
       "      <td>Fairview, NJ</td>\n",
       "      <td>4/14/2018</td>\n",
       "      <td>5.0</td>\n",
       "      <td>The best burgers ever!! Fresh, delicious, exce...</td>\n",
       "      <td>NaN</td>\n",
       "      <td>Madison SP</td>\n",
       "    </tr>\n",
       "    <tr>\n",
       "      <th>1</th>\n",
       "      <td>John F.</td>\n",
       "      <td>New York, NY</td>\n",
       "      <td>5/5/2018</td>\n",
       "      <td>2.0</td>\n",
       "      <td>Shake Shack: The Slowest Fast Food EverGot on ...</td>\n",
       "      <td>NaN</td>\n",
       "      <td>Madison SP</td>\n",
       "    </tr>\n",
       "    <tr>\n",
       "      <th>2</th>\n",
       "      <td>Alexander A.</td>\n",
       "      <td>New York, NY</td>\n",
       "      <td>5/3/2018</td>\n",
       "      <td>3.0</td>\n",
       "      <td>Overall - overhyped,  always crowded, mediocre...</td>\n",
       "      <td>NaN</td>\n",
       "      <td>Madison SP</td>\n",
       "    </tr>\n",
       "    <tr>\n",
       "      <th>3</th>\n",
       "      <td>Heng Woon O.</td>\n",
       "      <td>San Mateo, CA</td>\n",
       "      <td>5/2/2018</td>\n",
       "      <td>1.0</td>\n",
       "      <td>Horrible service! My wife waited so long for a...</td>\n",
       "      <td>NaN</td>\n",
       "      <td>Madison SP</td>\n",
       "    </tr>\n",
       "    <tr>\n",
       "      <th>4</th>\n",
       "      <td>Jose C.</td>\n",
       "      <td>Chicago, IL</td>\n",
       "      <td>4/15/2018</td>\n",
       "      <td>4.0</td>\n",
       "      <td>Shake Shack makes one damn delicious burger th...</td>\n",
       "      <td>NaN</td>\n",
       "      <td>Madison SP</td>\n",
       "    </tr>\n",
       "  </tbody>\n",
       "</table>\n",
       "</div>"
      ],
      "text/plain": [
       "           name       location review_date  rating  \\\n",
       "0     Dorota M.   Fairview, NJ   4/14/2018     5.0   \n",
       "1       John F.   New York, NY    5/5/2018     2.0   \n",
       "2  Alexander A.   New York, NY    5/3/2018     3.0   \n",
       "3  Heng Woon O.  San Mateo, CA    5/2/2018     1.0   \n",
       "4       Jose C.    Chicago, IL   4/15/2018     4.0   \n",
       "\n",
       "                                             content date_reply      outlet  \n",
       "0  The best burgers ever!! Fresh, delicious, exce...        NaN  Madison SP  \n",
       "1  Shake Shack: The Slowest Fast Food EverGot on ...        NaN  Madison SP  \n",
       "2  Overall - overhyped,  always crowded, mediocre...        NaN  Madison SP  \n",
       "3  Horrible service! My wife waited so long for a...        NaN  Madison SP  \n",
       "4  Shake Shack makes one damn delicious burger th...        NaN  Madison SP  "
      ]
     },
     "execution_count": 7,
     "metadata": {},
     "output_type": "execute_result"
    }
   ],
   "source": [
    "df.head()"
   ]
  },
  {
   "cell_type": "code",
   "execution_count": 8,
   "metadata": {},
   "outputs": [
    {
     "data": {
      "text/plain": [
       "(14627, 7)"
      ]
     },
     "execution_count": 8,
     "metadata": {},
     "output_type": "execute_result"
    }
   ],
   "source": [
    "df.shape"
   ]
  },
  {
   "cell_type": "markdown",
   "metadata": {},
   "source": [
    "# II. Process Variables"
   ]
  },
  {
   "cell_type": "markdown",
   "metadata": {},
   "source": [
    "### get reviewer's name"
   ]
  },
  {
   "cell_type": "code",
   "execution_count": 9,
   "metadata": {
    "collapsed": true
   },
   "outputs": [],
   "source": [
    "def get_name(x):    \n",
    "    try:\n",
    "        a = x.split(' ')\n",
    "        a.pop()\n",
    "        return ''.join(a)\n",
    "    except:\n",
    "        return x\n",
    "\n",
    "df['name'] = df['name'].apply(lambda x: get_name(x))"
   ]
  },
  {
   "cell_type": "code",
   "execution_count": 10,
   "metadata": {},
   "outputs": [
    {
     "data": {
      "text/html": [
       "<div>\n",
       "<style>\n",
       "    .dataframe thead tr:only-child th {\n",
       "        text-align: right;\n",
       "    }\n",
       "\n",
       "    .dataframe thead th {\n",
       "        text-align: left;\n",
       "    }\n",
       "\n",
       "    .dataframe tbody tr th {\n",
       "        vertical-align: top;\n",
       "    }\n",
       "</style>\n",
       "<table border=\"1\" class=\"dataframe\">\n",
       "  <thead>\n",
       "    <tr style=\"text-align: right;\">\n",
       "      <th></th>\n",
       "      <th>name</th>\n",
       "      <th>location</th>\n",
       "      <th>review_date</th>\n",
       "      <th>rating</th>\n",
       "      <th>content</th>\n",
       "      <th>date_reply</th>\n",
       "      <th>outlet</th>\n",
       "    </tr>\n",
       "  </thead>\n",
       "  <tbody>\n",
       "    <tr>\n",
       "      <th>0</th>\n",
       "      <td>Dorota</td>\n",
       "      <td>Fairview, NJ</td>\n",
       "      <td>4/14/2018</td>\n",
       "      <td>5.0</td>\n",
       "      <td>The best burgers ever!! Fresh, delicious, exce...</td>\n",
       "      <td>NaN</td>\n",
       "      <td>Madison SP</td>\n",
       "    </tr>\n",
       "    <tr>\n",
       "      <th>1</th>\n",
       "      <td>John</td>\n",
       "      <td>New York, NY</td>\n",
       "      <td>5/5/2018</td>\n",
       "      <td>2.0</td>\n",
       "      <td>Shake Shack: The Slowest Fast Food EverGot on ...</td>\n",
       "      <td>NaN</td>\n",
       "      <td>Madison SP</td>\n",
       "    </tr>\n",
       "    <tr>\n",
       "      <th>2</th>\n",
       "      <td>Alexander</td>\n",
       "      <td>New York, NY</td>\n",
       "      <td>5/3/2018</td>\n",
       "      <td>3.0</td>\n",
       "      <td>Overall - overhyped,  always crowded, mediocre...</td>\n",
       "      <td>NaN</td>\n",
       "      <td>Madison SP</td>\n",
       "    </tr>\n",
       "    <tr>\n",
       "      <th>3</th>\n",
       "      <td>HengWoon</td>\n",
       "      <td>San Mateo, CA</td>\n",
       "      <td>5/2/2018</td>\n",
       "      <td>1.0</td>\n",
       "      <td>Horrible service! My wife waited so long for a...</td>\n",
       "      <td>NaN</td>\n",
       "      <td>Madison SP</td>\n",
       "    </tr>\n",
       "    <tr>\n",
       "      <th>4</th>\n",
       "      <td>Jose</td>\n",
       "      <td>Chicago, IL</td>\n",
       "      <td>4/15/2018</td>\n",
       "      <td>4.0</td>\n",
       "      <td>Shake Shack makes one damn delicious burger th...</td>\n",
       "      <td>NaN</td>\n",
       "      <td>Madison SP</td>\n",
       "    </tr>\n",
       "  </tbody>\n",
       "</table>\n",
       "</div>"
      ],
      "text/plain": [
       "        name       location review_date  rating  \\\n",
       "0     Dorota   Fairview, NJ   4/14/2018     5.0   \n",
       "1       John   New York, NY    5/5/2018     2.0   \n",
       "2  Alexander   New York, NY    5/3/2018     3.0   \n",
       "3   HengWoon  San Mateo, CA    5/2/2018     1.0   \n",
       "4       Jose    Chicago, IL   4/15/2018     4.0   \n",
       "\n",
       "                                             content date_reply      outlet  \n",
       "0  The best burgers ever!! Fresh, delicious, exce...        NaN  Madison SP  \n",
       "1  Shake Shack: The Slowest Fast Food EverGot on ...        NaN  Madison SP  \n",
       "2  Overall - overhyped,  always crowded, mediocre...        NaN  Madison SP  \n",
       "3  Horrible service! My wife waited so long for a...        NaN  Madison SP  \n",
       "4  Shake Shack makes one damn delicious burger th...        NaN  Madison SP  "
      ]
     },
     "execution_count": 10,
     "metadata": {},
     "output_type": "execute_result"
    }
   ],
   "source": [
    "df.head()"
   ]
  },
  {
   "cell_type": "markdown",
   "metadata": {},
   "source": [
    "### get state"
   ]
  },
  {
   "cell_type": "code",
   "execution_count": 11,
   "metadata": {
    "collapsed": true
   },
   "outputs": [],
   "source": [
    "#Location \n",
    "def get_origin(x):\n",
    "    try:\n",
    "        return x.split(',')[-1].strip()\n",
    "    except:\n",
    "        return x\n",
    "\n",
    "df['state'] = df['location'].apply(lambda x: get_origin(x))"
   ]
  },
  {
   "cell_type": "code",
   "execution_count": 12,
   "metadata": {},
   "outputs": [
    {
     "data": {
      "text/plain": [
       "array(['NJ', 'NY', 'CA', 'IL', 'FL', 'PA', 'TN', 'MA', 'HI', 'Canada',\n",
       "       'DC', 'NC', 'United Kingdom', 'OH', 'RI', 'Norway', 'WA', 'OR',\n",
       "       'CT', 'GA', 'MI', 'IA', 'TX', 'KS', 'DE', 'Australia', 'VA', 'CO',\n",
       "       'Brazil', 'Italy', 'LA', 'Germany', 'WI', 'AR', 'Austria',\n",
       "       'The Netherlands', 'France', 'Denmark', 'Hong Kong', 'NV', 'IN',\n",
       "       'UT', 'AZ', 'MD', 'ME', 'MO', 'ID', 'WV', 'Guam', 'Sweden', 'MN',\n",
       "       'Philippines', 'AL', 'Singapore', 'NE', 'KY', 'Bay Area', 'SC',\n",
       "       'NM', 'MS', 'Spain', 'MT', 'OK', 'Taiwan', 'ND', 'AK', 'NH',\n",
       "       'Puerto Rico', 'Japan', 'Mexico', 'New Zealand', 'Switzerland',\n",
       "       'Finland', 'VT', 'Poland', 'Czech Republic', 'WY', 'Belgium',\n",
       "       'Republic of Ireland', 'Argentina', 'SD', 'Malaysia', nan,\n",
       "       'Turkey', 'Portugal', 'Everywhere Branch', 'ロックビル',\n",
       "       'Inland Empire', 'U.S. Virgin Islands'], dtype=object)"
      ]
     },
     "execution_count": 12,
     "metadata": {},
     "output_type": "execute_result"
    }
   ],
   "source": [
    "df['state'].unique()"
   ]
  },
  {
   "cell_type": "markdown",
   "metadata": {},
   "source": [
    "### create locality variable"
   ]
  },
  {
   "cell_type": "code",
   "execution_count": 13,
   "metadata": {
    "collapsed": true
   },
   "outputs": [],
   "source": [
    "def get_locality(x):\n",
    "    if x == 'NY':\n",
    "        return 'Local'\n",
    "    else:\n",
    "        return 'Non-local'\n",
    "\n",
    "df['locality'] = df['state'].apply(lambda x: get_locality(x))"
   ]
  },
  {
   "cell_type": "code",
   "execution_count": 14,
   "metadata": {},
   "outputs": [
    {
     "data": {
      "text/html": [
       "<div>\n",
       "<style>\n",
       "    .dataframe thead tr:only-child th {\n",
       "        text-align: right;\n",
       "    }\n",
       "\n",
       "    .dataframe thead th {\n",
       "        text-align: left;\n",
       "    }\n",
       "\n",
       "    .dataframe tbody tr th {\n",
       "        vertical-align: top;\n",
       "    }\n",
       "</style>\n",
       "<table border=\"1\" class=\"dataframe\">\n",
       "  <thead>\n",
       "    <tr style=\"text-align: right;\">\n",
       "      <th></th>\n",
       "      <th>location</th>\n",
       "      <th>locality</th>\n",
       "    </tr>\n",
       "  </thead>\n",
       "  <tbody>\n",
       "    <tr>\n",
       "      <th>0</th>\n",
       "      <td>Fairview, NJ</td>\n",
       "      <td>Non-local</td>\n",
       "    </tr>\n",
       "    <tr>\n",
       "      <th>1</th>\n",
       "      <td>New York, NY</td>\n",
       "      <td>Local</td>\n",
       "    </tr>\n",
       "    <tr>\n",
       "      <th>2</th>\n",
       "      <td>New York, NY</td>\n",
       "      <td>Local</td>\n",
       "    </tr>\n",
       "    <tr>\n",
       "      <th>3</th>\n",
       "      <td>San Mateo, CA</td>\n",
       "      <td>Non-local</td>\n",
       "    </tr>\n",
       "    <tr>\n",
       "      <th>4</th>\n",
       "      <td>Chicago, IL</td>\n",
       "      <td>Non-local</td>\n",
       "    </tr>\n",
       "  </tbody>\n",
       "</table>\n",
       "</div>"
      ],
      "text/plain": [
       "        location   locality\n",
       "0   Fairview, NJ  Non-local\n",
       "1   New York, NY      Local\n",
       "2   New York, NY      Local\n",
       "3  San Mateo, CA  Non-local\n",
       "4    Chicago, IL  Non-local"
      ]
     },
     "execution_count": 14,
     "metadata": {},
     "output_type": "execute_result"
    }
   ],
   "source": [
    "df[['location', 'locality']].head()"
   ]
  },
  {
   "cell_type": "code",
   "execution_count": 15,
   "metadata": {
    "scrolled": true
   },
   "outputs": [
    {
     "data": {
      "text/html": [
       "<div>\n",
       "<style>\n",
       "    .dataframe thead tr:only-child th {\n",
       "        text-align: right;\n",
       "    }\n",
       "\n",
       "    .dataframe thead th {\n",
       "        text-align: left;\n",
       "    }\n",
       "\n",
       "    .dataframe tbody tr th {\n",
       "        vertical-align: top;\n",
       "    }\n",
       "</style>\n",
       "<table border=\"1\" class=\"dataframe\">\n",
       "  <thead>\n",
       "    <tr style=\"text-align: right;\">\n",
       "      <th></th>\n",
       "      <th>location</th>\n",
       "    </tr>\n",
       "    <tr>\n",
       "      <th>locality</th>\n",
       "      <th></th>\n",
       "    </tr>\n",
       "  </thead>\n",
       "  <tbody>\n",
       "    <tr>\n",
       "      <th>Local</th>\n",
       "      <td>5702</td>\n",
       "    </tr>\n",
       "    <tr>\n",
       "      <th>Non-local</th>\n",
       "      <td>8922</td>\n",
       "    </tr>\n",
       "  </tbody>\n",
       "</table>\n",
       "</div>"
      ],
      "text/plain": [
       "           location\n",
       "locality           \n",
       "Local          5702\n",
       "Non-local      8922"
      ]
     },
     "execution_count": 15,
     "metadata": {},
     "output_type": "execute_result"
    }
   ],
   "source": [
    "df[['location', 'locality']].groupby(['locality']).count()"
   ]
  },
  {
   "cell_type": "code",
   "execution_count": 15,
   "metadata": {},
   "outputs": [
    {
     "data": {
      "text/plain": [
       "array(['NJ', 'NY', 'CA', 'IL', 'FL', 'PA', 'TN', 'MA', 'HI', 'Canada',\n",
       "       'DC', 'NC', 'United Kingdom', 'OH', 'RI', 'Norway', 'WA', 'OR',\n",
       "       'CT', 'GA', 'MI', 'IA', 'TX', 'KS', 'DE', 'Australia', 'VA', 'CO',\n",
       "       'Brazil', 'Italy', 'LA', 'Germany', 'WI', 'AR', 'Austria',\n",
       "       'The Netherlands', 'France', 'Denmark', 'Hong Kong', 'NV', 'IN',\n",
       "       'UT', 'AZ', 'MD', 'ME', 'MO', 'ID', 'WV', 'Guam', 'Sweden', 'MN',\n",
       "       'Philippines', 'AL', 'Singapore', 'NE', 'KY', 'Bay Area', 'SC',\n",
       "       'NM', 'MS', 'Spain', 'MT', 'OK', 'Taiwan', 'ND', 'AK', 'NH',\n",
       "       'Puerto Rico', 'Japan', 'Mexico', 'New Zealand', 'Switzerland',\n",
       "       'Finland', 'VT', 'Poland', 'Czech Republic', 'WY', 'Belgium',\n",
       "       'Republic of Ireland', 'Argentina', 'SD', 'Malaysia', nan,\n",
       "       'Turkey', 'Portugal', 'Everywhere Branch', 'ロックビル',\n",
       "       'Inland Empire', 'U.S. Virgin Islands'], dtype=object)"
      ]
     },
     "execution_count": 15,
     "metadata": {},
     "output_type": "execute_result"
    }
   ],
   "source": [
    "df['state'].unique()"
   ]
  },
  {
   "cell_type": "markdown",
   "metadata": {},
   "source": [
    "### create US or foreign variable"
   ]
  },
  {
   "cell_type": "code",
   "execution_count": 16,
   "metadata": {
    "collapsed": true
   },
   "outputs": [],
   "source": [
    "def get_country(x):\n",
    "    if x in ['NJ', 'NY', 'CA', 'IL', 'FL', 'PA', 'TN', 'MA', 'HI', \n",
    "       'DC', 'NC', 'OH', 'RI', 'WA', 'OR',\n",
    "       'CT', 'GA', 'MI', 'IA', 'TX', 'KS', 'DE', 'VA', 'CO',\n",
    "       'LA', 'WI', 'AR', \n",
    "       'NV', 'IN',\n",
    "       'UT', 'AZ', 'MD', 'ME', 'MO', 'ID', 'WV', 'MN',\n",
    "       'AL', 'NE', 'KY', 'Bay Area', 'SC',\n",
    "       'NM', 'MS', 'MT', 'OK', 'ND', 'AK', 'NH',\n",
    "       'Puerto Rico', \n",
    "       'VT', 'WY', \n",
    "       'SD']:\n",
    "        return 'US'\n",
    "    else:\n",
    "        return 'Non-US'\n",
    "\n",
    "df['country'] = df['state'].apply(lambda x: get_country(x))"
   ]
  },
  {
   "cell_type": "code",
   "execution_count": 17,
   "metadata": {},
   "outputs": [
    {
     "data": {
      "text/html": [
       "<div>\n",
       "<style>\n",
       "    .dataframe thead tr:only-child th {\n",
       "        text-align: right;\n",
       "    }\n",
       "\n",
       "    .dataframe thead th {\n",
       "        text-align: left;\n",
       "    }\n",
       "\n",
       "    .dataframe tbody tr th {\n",
       "        vertical-align: top;\n",
       "    }\n",
       "</style>\n",
       "<table border=\"1\" class=\"dataframe\">\n",
       "  <thead>\n",
       "    <tr style=\"text-align: right;\">\n",
       "      <th></th>\n",
       "      <th>location</th>\n",
       "      <th>country</th>\n",
       "    </tr>\n",
       "  </thead>\n",
       "  <tbody>\n",
       "    <tr>\n",
       "      <th>0</th>\n",
       "      <td>Fairview, NJ</td>\n",
       "      <td>US</td>\n",
       "    </tr>\n",
       "    <tr>\n",
       "      <th>1</th>\n",
       "      <td>New York, NY</td>\n",
       "      <td>US</td>\n",
       "    </tr>\n",
       "    <tr>\n",
       "      <th>2</th>\n",
       "      <td>New York, NY</td>\n",
       "      <td>US</td>\n",
       "    </tr>\n",
       "    <tr>\n",
       "      <th>3</th>\n",
       "      <td>San Mateo, CA</td>\n",
       "      <td>US</td>\n",
       "    </tr>\n",
       "    <tr>\n",
       "      <th>4</th>\n",
       "      <td>Chicago, IL</td>\n",
       "      <td>US</td>\n",
       "    </tr>\n",
       "  </tbody>\n",
       "</table>\n",
       "</div>"
      ],
      "text/plain": [
       "        location country\n",
       "0   Fairview, NJ      US\n",
       "1   New York, NY      US\n",
       "2   New York, NY      US\n",
       "3  San Mateo, CA      US\n",
       "4    Chicago, IL      US"
      ]
     },
     "execution_count": 17,
     "metadata": {},
     "output_type": "execute_result"
    }
   ],
   "source": [
    "df[['location', 'country']].head()"
   ]
  },
  {
   "cell_type": "code",
   "execution_count": 18,
   "metadata": {},
   "outputs": [
    {
     "data": {
      "text/html": [
       "<div>\n",
       "<style>\n",
       "    .dataframe thead tr:only-child th {\n",
       "        text-align: right;\n",
       "    }\n",
       "\n",
       "    .dataframe thead th {\n",
       "        text-align: left;\n",
       "    }\n",
       "\n",
       "    .dataframe tbody tr th {\n",
       "        vertical-align: top;\n",
       "    }\n",
       "</style>\n",
       "<table border=\"1\" class=\"dataframe\">\n",
       "  <thead>\n",
       "    <tr style=\"text-align: right;\">\n",
       "      <th></th>\n",
       "      <th>location</th>\n",
       "    </tr>\n",
       "    <tr>\n",
       "      <th>country</th>\n",
       "      <th></th>\n",
       "    </tr>\n",
       "  </thead>\n",
       "  <tbody>\n",
       "    <tr>\n",
       "      <th>Non-US</th>\n",
       "      <td>505</td>\n",
       "    </tr>\n",
       "    <tr>\n",
       "      <th>US</th>\n",
       "      <td>14119</td>\n",
       "    </tr>\n",
       "  </tbody>\n",
       "</table>\n",
       "</div>"
      ],
      "text/plain": [
       "         location\n",
       "country          \n",
       "Non-US        505\n",
       "US          14119"
      ]
     },
     "execution_count": 18,
     "metadata": {},
     "output_type": "execute_result"
    }
   ],
   "source": [
    "df[['location', 'country']].groupby(['country']).count()"
   ]
  },
  {
   "cell_type": "markdown",
   "metadata": {},
   "source": [
    "### create new column date as review date in date format"
   ]
  },
  {
   "cell_type": "code",
   "execution_count": 19,
   "metadata": {
    "collapsed": true
   },
   "outputs": [],
   "source": [
    "def transform(x):\n",
    "    date = x.split('\\n')[0]    \n",
    "    lis = date.split('/')[::-1]\n",
    "    if len(lis[1]) == 1:\n",
    "        lis[1] = ''.join(['0',lis[1]])\n",
    "    if len(lis[2]) == 1:\n",
    "        lis[2] = ''.join(['0',lis[2]])\n",
    "    return '-'.join([lis[0],lis[2],lis[1]])\n",
    "\n",
    "df['date'] = df['review_date'].apply(lambda x: transform(x))"
   ]
  },
  {
   "cell_type": "code",
   "execution_count": 20,
   "metadata": {
    "collapsed": true
   },
   "outputs": [],
   "source": [
    "df['date'] = pd.to_datetime(df['date'])"
   ]
  },
  {
   "cell_type": "code",
   "execution_count": 21,
   "metadata": {},
   "outputs": [
    {
     "data": {
      "text/html": [
       "<div>\n",
       "<style>\n",
       "    .dataframe thead tr:only-child th {\n",
       "        text-align: right;\n",
       "    }\n",
       "\n",
       "    .dataframe thead th {\n",
       "        text-align: left;\n",
       "    }\n",
       "\n",
       "    .dataframe tbody tr th {\n",
       "        vertical-align: top;\n",
       "    }\n",
       "</style>\n",
       "<table border=\"1\" class=\"dataframe\">\n",
       "  <thead>\n",
       "    <tr style=\"text-align: right;\">\n",
       "      <th></th>\n",
       "      <th>name</th>\n",
       "      <th>location</th>\n",
       "      <th>review_date</th>\n",
       "      <th>rating</th>\n",
       "      <th>content</th>\n",
       "      <th>date_reply</th>\n",
       "      <th>outlet</th>\n",
       "      <th>state</th>\n",
       "      <th>locality</th>\n",
       "      <th>country</th>\n",
       "      <th>date</th>\n",
       "    </tr>\n",
       "  </thead>\n",
       "  <tbody>\n",
       "    <tr>\n",
       "      <th>0</th>\n",
       "      <td>Dorota</td>\n",
       "      <td>Fairview, NJ</td>\n",
       "      <td>4/14/2018</td>\n",
       "      <td>5.0</td>\n",
       "      <td>The best burgers ever!! Fresh, delicious, exce...</td>\n",
       "      <td>NaN</td>\n",
       "      <td>Madison SP</td>\n",
       "      <td>NJ</td>\n",
       "      <td>Non-local</td>\n",
       "      <td>US</td>\n",
       "      <td>2018-04-14</td>\n",
       "    </tr>\n",
       "    <tr>\n",
       "      <th>1</th>\n",
       "      <td>John</td>\n",
       "      <td>New York, NY</td>\n",
       "      <td>5/5/2018</td>\n",
       "      <td>2.0</td>\n",
       "      <td>Shake Shack: The Slowest Fast Food EverGot on ...</td>\n",
       "      <td>NaN</td>\n",
       "      <td>Madison SP</td>\n",
       "      <td>NY</td>\n",
       "      <td>Local</td>\n",
       "      <td>US</td>\n",
       "      <td>2018-05-05</td>\n",
       "    </tr>\n",
       "    <tr>\n",
       "      <th>2</th>\n",
       "      <td>Alexander</td>\n",
       "      <td>New York, NY</td>\n",
       "      <td>5/3/2018</td>\n",
       "      <td>3.0</td>\n",
       "      <td>Overall - overhyped,  always crowded, mediocre...</td>\n",
       "      <td>NaN</td>\n",
       "      <td>Madison SP</td>\n",
       "      <td>NY</td>\n",
       "      <td>Local</td>\n",
       "      <td>US</td>\n",
       "      <td>2018-05-03</td>\n",
       "    </tr>\n",
       "    <tr>\n",
       "      <th>3</th>\n",
       "      <td>HengWoon</td>\n",
       "      <td>San Mateo, CA</td>\n",
       "      <td>5/2/2018</td>\n",
       "      <td>1.0</td>\n",
       "      <td>Horrible service! My wife waited so long for a...</td>\n",
       "      <td>NaN</td>\n",
       "      <td>Madison SP</td>\n",
       "      <td>CA</td>\n",
       "      <td>Non-local</td>\n",
       "      <td>US</td>\n",
       "      <td>2018-05-02</td>\n",
       "    </tr>\n",
       "    <tr>\n",
       "      <th>4</th>\n",
       "      <td>Jose</td>\n",
       "      <td>Chicago, IL</td>\n",
       "      <td>4/15/2018</td>\n",
       "      <td>4.0</td>\n",
       "      <td>Shake Shack makes one damn delicious burger th...</td>\n",
       "      <td>NaN</td>\n",
       "      <td>Madison SP</td>\n",
       "      <td>IL</td>\n",
       "      <td>Non-local</td>\n",
       "      <td>US</td>\n",
       "      <td>2018-04-15</td>\n",
       "    </tr>\n",
       "  </tbody>\n",
       "</table>\n",
       "</div>"
      ],
      "text/plain": [
       "        name       location review_date  rating  \\\n",
       "0     Dorota   Fairview, NJ   4/14/2018     5.0   \n",
       "1       John   New York, NY    5/5/2018     2.0   \n",
       "2  Alexander   New York, NY    5/3/2018     3.0   \n",
       "3   HengWoon  San Mateo, CA    5/2/2018     1.0   \n",
       "4       Jose    Chicago, IL   4/15/2018     4.0   \n",
       "\n",
       "                                             content date_reply      outlet  \\\n",
       "0  The best burgers ever!! Fresh, delicious, exce...        NaN  Madison SP   \n",
       "1  Shake Shack: The Slowest Fast Food EverGot on ...        NaN  Madison SP   \n",
       "2  Overall - overhyped,  always crowded, mediocre...        NaN  Madison SP   \n",
       "3  Horrible service! My wife waited so long for a...        NaN  Madison SP   \n",
       "4  Shake Shack makes one damn delicious burger th...        NaN  Madison SP   \n",
       "\n",
       "  state   locality country       date  \n",
       "0    NJ  Non-local      US 2018-04-14  \n",
       "1    NY      Local      US 2018-05-05  \n",
       "2    NY      Local      US 2018-05-03  \n",
       "3    CA  Non-local      US 2018-05-02  \n",
       "4    IL  Non-local      US 2018-04-15  "
      ]
     },
     "execution_count": 21,
     "metadata": {},
     "output_type": "execute_result"
    }
   ],
   "source": [
    "df.head()"
   ]
  },
  {
   "cell_type": "code",
   "execution_count": 22,
   "metadata": {},
   "outputs": [
    {
     "data": {
      "text/html": [
       "<div>\n",
       "<style>\n",
       "    .dataframe thead tr:only-child th {\n",
       "        text-align: right;\n",
       "    }\n",
       "\n",
       "    .dataframe thead th {\n",
       "        text-align: left;\n",
       "    }\n",
       "\n",
       "    .dataframe tbody tr th {\n",
       "        vertical-align: top;\n",
       "    }\n",
       "</style>\n",
       "<table border=\"1\" class=\"dataframe\">\n",
       "  <thead>\n",
       "    <tr style=\"text-align: right;\">\n",
       "      <th></th>\n",
       "      <th>name</th>\n",
       "      <th>location</th>\n",
       "      <th>review_date</th>\n",
       "      <th>rating</th>\n",
       "      <th>content</th>\n",
       "      <th>date_reply</th>\n",
       "      <th>outlet</th>\n",
       "      <th>state</th>\n",
       "      <th>locality</th>\n",
       "      <th>country</th>\n",
       "      <th>date</th>\n",
       "    </tr>\n",
       "  </thead>\n",
       "  <tbody>\n",
       "    <tr>\n",
       "      <th>0</th>\n",
       "      <td>Dorota</td>\n",
       "      <td>Fairview, NJ</td>\n",
       "      <td>4/14/2018</td>\n",
       "      <td>5.0</td>\n",
       "      <td>The best burgers ever!! Fresh, delicious, exce...</td>\n",
       "      <td>NaN</td>\n",
       "      <td>Madison SP</td>\n",
       "      <td>NJ</td>\n",
       "      <td>Non-local</td>\n",
       "      <td>US</td>\n",
       "      <td>2018-04-14</td>\n",
       "    </tr>\n",
       "    <tr>\n",
       "      <th>1</th>\n",
       "      <td>John</td>\n",
       "      <td>New York, NY</td>\n",
       "      <td>5/5/2018</td>\n",
       "      <td>2.0</td>\n",
       "      <td>Shake Shack: The Slowest Fast Food EverGot on ...</td>\n",
       "      <td>NaN</td>\n",
       "      <td>Madison SP</td>\n",
       "      <td>NY</td>\n",
       "      <td>Local</td>\n",
       "      <td>US</td>\n",
       "      <td>2018-05-05</td>\n",
       "    </tr>\n",
       "    <tr>\n",
       "      <th>2</th>\n",
       "      <td>Alexander</td>\n",
       "      <td>New York, NY</td>\n",
       "      <td>5/3/2018</td>\n",
       "      <td>3.0</td>\n",
       "      <td>Overall - overhyped,  always crowded, mediocre...</td>\n",
       "      <td>NaN</td>\n",
       "      <td>Madison SP</td>\n",
       "      <td>NY</td>\n",
       "      <td>Local</td>\n",
       "      <td>US</td>\n",
       "      <td>2018-05-03</td>\n",
       "    </tr>\n",
       "    <tr>\n",
       "      <th>3</th>\n",
       "      <td>HengWoon</td>\n",
       "      <td>San Mateo, CA</td>\n",
       "      <td>5/2/2018</td>\n",
       "      <td>1.0</td>\n",
       "      <td>Horrible service! My wife waited so long for a...</td>\n",
       "      <td>NaN</td>\n",
       "      <td>Madison SP</td>\n",
       "      <td>CA</td>\n",
       "      <td>Non-local</td>\n",
       "      <td>US</td>\n",
       "      <td>2018-05-02</td>\n",
       "    </tr>\n",
       "    <tr>\n",
       "      <th>4</th>\n",
       "      <td>Jose</td>\n",
       "      <td>Chicago, IL</td>\n",
       "      <td>4/15/2018</td>\n",
       "      <td>4.0</td>\n",
       "      <td>Shake Shack makes one damn delicious burger th...</td>\n",
       "      <td>NaN</td>\n",
       "      <td>Madison SP</td>\n",
       "      <td>IL</td>\n",
       "      <td>Non-local</td>\n",
       "      <td>US</td>\n",
       "      <td>2018-04-15</td>\n",
       "    </tr>\n",
       "  </tbody>\n",
       "</table>\n",
       "</div>"
      ],
      "text/plain": [
       "        name       location review_date  rating  \\\n",
       "0     Dorota   Fairview, NJ   4/14/2018     5.0   \n",
       "1       John   New York, NY    5/5/2018     2.0   \n",
       "2  Alexander   New York, NY    5/3/2018     3.0   \n",
       "3   HengWoon  San Mateo, CA    5/2/2018     1.0   \n",
       "4       Jose    Chicago, IL   4/15/2018     4.0   \n",
       "\n",
       "                                             content date_reply      outlet  \\\n",
       "0  The best burgers ever!! Fresh, delicious, exce...        NaN  Madison SP   \n",
       "1  Shake Shack: The Slowest Fast Food EverGot on ...        NaN  Madison SP   \n",
       "2  Overall - overhyped,  always crowded, mediocre...        NaN  Madison SP   \n",
       "3  Horrible service! My wife waited so long for a...        NaN  Madison SP   \n",
       "4  Shake Shack makes one damn delicious burger th...        NaN  Madison SP   \n",
       "\n",
       "  state   locality country       date  \n",
       "0    NJ  Non-local      US 2018-04-14  \n",
       "1    NY      Local      US 2018-05-05  \n",
       "2    NY      Local      US 2018-05-03  \n",
       "3    CA  Non-local      US 2018-05-02  \n",
       "4    IL  Non-local      US 2018-04-15  "
      ]
     },
     "execution_count": 22,
     "metadata": {},
     "output_type": "execute_result"
    }
   ],
   "source": [
    "df.head()"
   ]
  },
  {
   "cell_type": "markdown",
   "metadata": {},
   "source": [
    "### extract year, month, and day as new columns (helps in sorting!)"
   ]
  },
  {
   "cell_type": "code",
   "execution_count": 23,
   "metadata": {
    "collapsed": true,
    "scrolled": false
   },
   "outputs": [],
   "source": [
    "#Year\n",
    "def get_year(x):\n",
    "    return int(x.year) \n",
    "\n",
    "df['year'] = df['date'].apply(lambda x: get_year(x))"
   ]
  },
  {
   "cell_type": "code",
   "execution_count": 24,
   "metadata": {},
   "outputs": [
    {
     "data": {
      "text/html": [
       "<div>\n",
       "<style>\n",
       "    .dataframe thead tr:only-child th {\n",
       "        text-align: right;\n",
       "    }\n",
       "\n",
       "    .dataframe thead th {\n",
       "        text-align: left;\n",
       "    }\n",
       "\n",
       "    .dataframe tbody tr th {\n",
       "        vertical-align: top;\n",
       "    }\n",
       "</style>\n",
       "<table border=\"1\" class=\"dataframe\">\n",
       "  <thead>\n",
       "    <tr style=\"text-align: right;\">\n",
       "      <th></th>\n",
       "      <th>date</th>\n",
       "      <th>year</th>\n",
       "    </tr>\n",
       "  </thead>\n",
       "  <tbody>\n",
       "    <tr>\n",
       "      <th>0</th>\n",
       "      <td>2018-04-14</td>\n",
       "      <td>2018</td>\n",
       "    </tr>\n",
       "    <tr>\n",
       "      <th>1</th>\n",
       "      <td>2018-05-05</td>\n",
       "      <td>2018</td>\n",
       "    </tr>\n",
       "    <tr>\n",
       "      <th>2</th>\n",
       "      <td>2018-05-03</td>\n",
       "      <td>2018</td>\n",
       "    </tr>\n",
       "    <tr>\n",
       "      <th>3</th>\n",
       "      <td>2018-05-02</td>\n",
       "      <td>2018</td>\n",
       "    </tr>\n",
       "    <tr>\n",
       "      <th>4</th>\n",
       "      <td>2018-04-15</td>\n",
       "      <td>2018</td>\n",
       "    </tr>\n",
       "  </tbody>\n",
       "</table>\n",
       "</div>"
      ],
      "text/plain": [
       "        date  year\n",
       "0 2018-04-14  2018\n",
       "1 2018-05-05  2018\n",
       "2 2018-05-03  2018\n",
       "3 2018-05-02  2018\n",
       "4 2018-04-15  2018"
      ]
     },
     "execution_count": 24,
     "metadata": {},
     "output_type": "execute_result"
    }
   ],
   "source": [
    "df[['date','year']].head()"
   ]
  },
  {
   "cell_type": "code",
   "execution_count": 25,
   "metadata": {
    "collapsed": true
   },
   "outputs": [],
   "source": [
    "#Month\n",
    "def get_month(x):\n",
    "    return int(x.month) \n",
    "\n",
    "df['month'] = df['date'].apply(lambda x: get_month(x))"
   ]
  },
  {
   "cell_type": "code",
   "execution_count": 26,
   "metadata": {
    "scrolled": true
   },
   "outputs": [
    {
     "data": {
      "text/html": [
       "<div>\n",
       "<style>\n",
       "    .dataframe thead tr:only-child th {\n",
       "        text-align: right;\n",
       "    }\n",
       "\n",
       "    .dataframe thead th {\n",
       "        text-align: left;\n",
       "    }\n",
       "\n",
       "    .dataframe tbody tr th {\n",
       "        vertical-align: top;\n",
       "    }\n",
       "</style>\n",
       "<table border=\"1\" class=\"dataframe\">\n",
       "  <thead>\n",
       "    <tr style=\"text-align: right;\">\n",
       "      <th></th>\n",
       "      <th>date</th>\n",
       "      <th>month</th>\n",
       "    </tr>\n",
       "  </thead>\n",
       "  <tbody>\n",
       "    <tr>\n",
       "      <th>0</th>\n",
       "      <td>2018-04-14</td>\n",
       "      <td>4</td>\n",
       "    </tr>\n",
       "    <tr>\n",
       "      <th>1</th>\n",
       "      <td>2018-05-05</td>\n",
       "      <td>5</td>\n",
       "    </tr>\n",
       "    <tr>\n",
       "      <th>2</th>\n",
       "      <td>2018-05-03</td>\n",
       "      <td>5</td>\n",
       "    </tr>\n",
       "    <tr>\n",
       "      <th>3</th>\n",
       "      <td>2018-05-02</td>\n",
       "      <td>5</td>\n",
       "    </tr>\n",
       "    <tr>\n",
       "      <th>4</th>\n",
       "      <td>2018-04-15</td>\n",
       "      <td>4</td>\n",
       "    </tr>\n",
       "  </tbody>\n",
       "</table>\n",
       "</div>"
      ],
      "text/plain": [
       "        date  month\n",
       "0 2018-04-14      4\n",
       "1 2018-05-05      5\n",
       "2 2018-05-03      5\n",
       "3 2018-05-02      5\n",
       "4 2018-04-15      4"
      ]
     },
     "execution_count": 26,
     "metadata": {},
     "output_type": "execute_result"
    }
   ],
   "source": [
    "df[['date','month']].head()"
   ]
  },
  {
   "cell_type": "code",
   "execution_count": 27,
   "metadata": {
    "collapsed": true
   },
   "outputs": [],
   "source": [
    "#Day\n",
    "def get_day(x):\n",
    "    return int(x.day) \n",
    "\n",
    "df['day'] = df['date'].apply(lambda x: get_day(x))"
   ]
  },
  {
   "cell_type": "code",
   "execution_count": 28,
   "metadata": {},
   "outputs": [
    {
     "data": {
      "text/html": [
       "<div>\n",
       "<style>\n",
       "    .dataframe thead tr:only-child th {\n",
       "        text-align: right;\n",
       "    }\n",
       "\n",
       "    .dataframe thead th {\n",
       "        text-align: left;\n",
       "    }\n",
       "\n",
       "    .dataframe tbody tr th {\n",
       "        vertical-align: top;\n",
       "    }\n",
       "</style>\n",
       "<table border=\"1\" class=\"dataframe\">\n",
       "  <thead>\n",
       "    <tr style=\"text-align: right;\">\n",
       "      <th></th>\n",
       "      <th>date</th>\n",
       "      <th>day</th>\n",
       "    </tr>\n",
       "  </thead>\n",
       "  <tbody>\n",
       "    <tr>\n",
       "      <th>0</th>\n",
       "      <td>2018-04-14</td>\n",
       "      <td>14</td>\n",
       "    </tr>\n",
       "    <tr>\n",
       "      <th>1</th>\n",
       "      <td>2018-05-05</td>\n",
       "      <td>5</td>\n",
       "    </tr>\n",
       "    <tr>\n",
       "      <th>2</th>\n",
       "      <td>2018-05-03</td>\n",
       "      <td>3</td>\n",
       "    </tr>\n",
       "    <tr>\n",
       "      <th>3</th>\n",
       "      <td>2018-05-02</td>\n",
       "      <td>2</td>\n",
       "    </tr>\n",
       "    <tr>\n",
       "      <th>4</th>\n",
       "      <td>2018-04-15</td>\n",
       "      <td>15</td>\n",
       "    </tr>\n",
       "  </tbody>\n",
       "</table>\n",
       "</div>"
      ],
      "text/plain": [
       "        date  day\n",
       "0 2018-04-14   14\n",
       "1 2018-05-05    5\n",
       "2 2018-05-03    3\n",
       "3 2018-05-02    2\n",
       "4 2018-04-15   15"
      ]
     },
     "execution_count": 28,
     "metadata": {},
     "output_type": "execute_result"
    }
   ],
   "source": [
    "df[['date','day']].head()"
   ]
  },
  {
   "cell_type": "markdown",
   "metadata": {},
   "source": [
    "### create new columns date_month and date_year for barcharts"
   ]
  },
  {
   "cell_type": "code",
   "execution_count": 29,
   "metadata": {},
   "outputs": [
    {
     "data": {
      "text/html": [
       "<div>\n",
       "<style>\n",
       "    .dataframe thead tr:only-child th {\n",
       "        text-align: right;\n",
       "    }\n",
       "\n",
       "    .dataframe thead th {\n",
       "        text-align: left;\n",
       "    }\n",
       "\n",
       "    .dataframe tbody tr th {\n",
       "        vertical-align: top;\n",
       "    }\n",
       "</style>\n",
       "<table border=\"1\" class=\"dataframe\">\n",
       "  <thead>\n",
       "    <tr style=\"text-align: right;\">\n",
       "      <th></th>\n",
       "      <th>date</th>\n",
       "      <th>date_year</th>\n",
       "    </tr>\n",
       "  </thead>\n",
       "  <tbody>\n",
       "    <tr>\n",
       "      <th>0</th>\n",
       "      <td>2018-04-14</td>\n",
       "      <td>2018-01-01</td>\n",
       "    </tr>\n",
       "    <tr>\n",
       "      <th>1</th>\n",
       "      <td>2018-05-05</td>\n",
       "      <td>2018-01-01</td>\n",
       "    </tr>\n",
       "    <tr>\n",
       "      <th>2</th>\n",
       "      <td>2018-05-03</td>\n",
       "      <td>2018-01-01</td>\n",
       "    </tr>\n",
       "    <tr>\n",
       "      <th>3</th>\n",
       "      <td>2018-05-02</td>\n",
       "      <td>2018-01-01</td>\n",
       "    </tr>\n",
       "    <tr>\n",
       "      <th>4</th>\n",
       "      <td>2018-04-15</td>\n",
       "      <td>2018-01-01</td>\n",
       "    </tr>\n",
       "  </tbody>\n",
       "</table>\n",
       "</div>"
      ],
      "text/plain": [
       "        date  date_year\n",
       "0 2018-04-14 2018-01-01\n",
       "1 2018-05-05 2018-01-01\n",
       "2 2018-05-03 2018-01-01\n",
       "3 2018-05-02 2018-01-01\n",
       "4 2018-04-15 2018-01-01"
      ]
     },
     "execution_count": 29,
     "metadata": {},
     "output_type": "execute_result"
    }
   ],
   "source": [
    "def get_date_year(x):\n",
    "    return str(x.year) \n",
    "\n",
    "df['date_year'] = df['date'].apply(lambda x: get_date_year(x))\n",
    "df['date_year'] = pd.to_datetime(df['date_year'])\n",
    "df[['date','date_year']].head()"
   ]
  },
  {
   "cell_type": "code",
   "execution_count": 30,
   "metadata": {},
   "outputs": [
    {
     "data": {
      "text/html": [
       "<div>\n",
       "<style>\n",
       "    .dataframe thead tr:only-child th {\n",
       "        text-align: right;\n",
       "    }\n",
       "\n",
       "    .dataframe thead th {\n",
       "        text-align: left;\n",
       "    }\n",
       "\n",
       "    .dataframe tbody tr th {\n",
       "        vertical-align: top;\n",
       "    }\n",
       "</style>\n",
       "<table border=\"1\" class=\"dataframe\">\n",
       "  <thead>\n",
       "    <tr style=\"text-align: right;\">\n",
       "      <th></th>\n",
       "      <th>date</th>\n",
       "      <th>date_month</th>\n",
       "    </tr>\n",
       "  </thead>\n",
       "  <tbody>\n",
       "    <tr>\n",
       "      <th>0</th>\n",
       "      <td>2018-04-14</td>\n",
       "      <td>2018-04-01</td>\n",
       "    </tr>\n",
       "    <tr>\n",
       "      <th>1</th>\n",
       "      <td>2018-05-05</td>\n",
       "      <td>2018-05-01</td>\n",
       "    </tr>\n",
       "    <tr>\n",
       "      <th>2</th>\n",
       "      <td>2018-05-03</td>\n",
       "      <td>2018-05-01</td>\n",
       "    </tr>\n",
       "    <tr>\n",
       "      <th>3</th>\n",
       "      <td>2018-05-02</td>\n",
       "      <td>2018-05-01</td>\n",
       "    </tr>\n",
       "    <tr>\n",
       "      <th>4</th>\n",
       "      <td>2018-04-15</td>\n",
       "      <td>2018-04-01</td>\n",
       "    </tr>\n",
       "  </tbody>\n",
       "</table>\n",
       "</div>"
      ],
      "text/plain": [
       "        date date_month\n",
       "0 2018-04-14 2018-04-01\n",
       "1 2018-05-05 2018-05-01\n",
       "2 2018-05-03 2018-05-01\n",
       "3 2018-05-02 2018-05-01\n",
       "4 2018-04-15 2018-04-01"
      ]
     },
     "execution_count": 30,
     "metadata": {},
     "output_type": "execute_result"
    }
   ],
   "source": [
    "def get_date_month(x):\n",
    "    return str(x.year) + '-' + str(x.month)\n",
    "\n",
    "df['date_month'] = df['date'].apply(lambda x: get_date_month(x))\n",
    "df['date_month'] = pd.to_datetime(df['date_month'])\n",
    "df[['date','date_month']].head()"
   ]
  },
  {
   "cell_type": "markdown",
   "metadata": {},
   "source": [
    "# III. Save Dataset"
   ]
  },
  {
   "cell_type": "code",
   "execution_count": 31,
   "metadata": {
    "collapsed": true
   },
   "outputs": [],
   "source": [
    "df.to_pickle('./Data/New_York')"
   ]
  },
  {
   "cell_type": "code",
   "execution_count": null,
   "metadata": {
    "collapsed": true
   },
   "outputs": [],
   "source": []
  }
 ],
 "metadata": {
  "kernelspec": {
   "display_name": "Python 3",
   "language": "python",
   "name": "python3"
  },
  "language_info": {
   "codemirror_mode": {
    "name": "ipython",
    "version": 3
   },
   "file_extension": ".py",
   "mimetype": "text/x-python",
   "name": "python",
   "nbconvert_exporter": "python",
   "pygments_lexer": "ipython3",
   "version": "3.6.2"
  }
 },
 "nbformat": 4,
 "nbformat_minor": 2
}
